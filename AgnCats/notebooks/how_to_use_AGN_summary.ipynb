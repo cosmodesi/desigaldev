{
 "cells": [
  {
   "cell_type": "markdown",
   "id": "65a0a444-4024-4e1c-b178-733b7c7e9af8",
   "metadata": {},
   "source": [
    "# Using the AGN / QSO Summary Catalog MASKBITS\n",
    "##### Authors: (Please add names) B. Canning, S. Juneau, M. Mezcua, R. Pucha, R. Alfarsy, S. Behera, G. Suidek, B. Floyd, S. Srinivas,  \n",
    "\n",
    "This is an example notebook which demonstrates use cases fo the AGN/QSO summary catalog.\n",
    "\n",
    "**TO DO:** add info here about what is needed to run the notebook? GitClone some repo and/or can we turn into a standalone? (NOTE: the call to `from set_agn_masksDESI import get_agn_maskbits` implies that users have cloned the full desigaldev repo so maybe we need to re-think this)\n",
    "\n",
    "\n"
   ]
  },
  {
   "cell_type": "markdown",
   "id": "ba3a3430-70c8-4d03-98d3-a8b874ada991",
   "metadata": {},
   "source": [
    "### 1) First let's import some stuff!"
   ]
  },
  {
   "cell_type": "code",
   "execution_count": null,
   "id": "661e4901-6bd1-4a7d-a95c-f4b135ad16d5",
   "metadata": {
    "tags": []
   },
   "outputs": [],
   "source": [
    "# Numpy\n",
    "import numpy as np\n",
    "# Plotting stuff and suppressing boring warnings\n",
    "import matplotlib.pyplot as plt\n",
    "from matplotlib.colors import LogNorm\n",
    "import warnings\n",
    "warnings.filterwarnings('ignore')\n",
    "\n",
    "# Get the GQP code\n",
    "import sys\n",
    "# Set the path where the py scripts are\n",
    "sys.path.append(\"../py/\")\n",
    "import set_agn_masksDESI\n",
    "from set_agn_masksDESI import get_agn_maskbits\n",
    "\n",
    "import fitsio\n",
    "\n",
    "# Import Astropy libraries - useful for many astronomy related function\n",
    "from astropy.table import Table #, join, Column\n",
    "from astropy.io import fits\n",
    "\n",
    "# TO DO: simplify/clean this?\n",
    "settings = {\n",
    "    'font.size':12,\n",
    "    'axes.linewidth':2.0,\n",
    "    'xtick.major.size':6.0,\n",
    "    'xtick.minor.size':4.0,\n",
    "    'xtick.major.width':2.0,\n",
    "    'xtick.minor.width':1.,\n",
    "    'xtick.direction':'in', \n",
    "    'xtick.minor.visible':True,\n",
    "    'xtick.top':True,\n",
    "    'ytick.major.size':6.0,\n",
    "    'ytick.minor.size':4.0,\n",
    "    'ytick.major.width':2.0,\n",
    "    'ytick.minor.width':1.,\n",
    "    'ytick.direction':'in', \n",
    "    'ytick.minor.visible':True,\n",
    "    'ytick.right':True,\n",
    "    'axes.labelsize':18\n",
    "}\n",
    "#    'xlabel.fontsize':18,\n",
    "#    'ylabel.fontsize':18\n",
    "#    }\n",
    "\n",
    "plt.rcParams.update(**settings)"
   ]
  },
  {
   "cell_type": "markdown",
   "id": "4f0d73e6-8226-4494-a635-a3a2b0b79852",
   "metadata": {},
   "source": [
    "### 2) Now we are ready to open the catalog.\n",
    "\n",
    "The public location of the catalog is:\n",
    "\n",
    "\n",
    "The internal GQP drive at NERSC is\n",
    "\n",
    "        /global/cfs/cdirs/desi/science/gqp/\n",
    "\n",
    "From there we can find the 'agncatalog' folder and follow the link on to 'catalog'"
   ]
  },
  {
   "cell_type": "code",
   "execution_count": null,
   "id": "37ca6a84-7912-472a-918e-15e1028a3753",
   "metadata": {
    "tags": []
   },
   "outputs": [],
   "source": [
    "def return_catdir(location='nersc'):\n",
    "\n",
    "    dl_path = '~/data/DESI/science/gqp/agncatalog/catalog/'\n",
    "    nersc_path = '/global/cfs/cdirs/desi/science/gqp/agncatalog/dr1/v1.0/'\n",
    "    if location=='datalab':\n",
    "        return(dl_path)\n",
    "    else:\n",
    "        return(nersc_path)  #default"
   ]
  },
  {
   "cell_type": "code",
   "execution_count": null,
   "id": "24625f23-4c31-4945-9e5b-de79649052d8",
   "metadata": {
    "tags": []
   },
   "outputs": [],
   "source": [
    "catdir = return_catdir(location='nersc')\n",
    "\n",
    "# Open the catalog\n",
    "agn_hdul = fits.open(f'{catdir}agnqso_sum.fits', format='fits')\n",
    "agn_hdul.info()"
   ]
  },
  {
   "cell_type": "markdown",
   "id": "f88e45b5-ca07-4d57-8bd3-e3c8ae9155e0",
   "metadata": {},
   "source": [
    "As we can see the data is stored in extension number 1."
   ]
  },
  {
   "cell_type": "code",
   "execution_count": null,
   "id": "5e794cc9-d924-43e6-afd9-12fea23b4543",
   "metadata": {
    "tags": []
   },
   "outputs": [],
   "source": [
    "%%time\n",
    "# Load the catalog into Astropy tables\n",
    "T = Table(agn_hdul[1].data)\n",
    "T2 = Table(agn_hdul[2].data)"
   ]
  },
  {
   "cell_type": "markdown",
   "id": "778617dc-aaeb-416a-b902-649a2f611730",
   "metadata": {},
   "source": [
    "Let's print the columns in this catalog."
   ]
  },
  {
   "cell_type": "code",
   "execution_count": null,
   "id": "652d2f16-9f5a-4fd7-b7c5-e2f679f5d021",
   "metadata": {
    "tags": []
   },
   "outputs": [],
   "source": [
    "# What are the columns?\n",
    "T.columns"
   ]
  },
  {
   "cell_type": "markdown",
   "id": "409b10ca-b61b-43f2-ac30-8dab469b5a83",
   "metadata": {},
   "source": [
    "In particular we acess information about the AGN and QSO diagnostics via the AGN_MASKBITS and OPT_UV_TYPE columns. We can read the definitions for the bitmasks in the yaml file."
   ]
  },
  {
   "cell_type": "code",
   "execution_count": null,
   "id": "fb567e32-6ca8-4949-bd38-f873d726c063",
   "metadata": {
    "tags": []
   },
   "outputs": [],
   "source": [
    "AGN_MASKBITS, OPT_UV_TYPE, IR_TYPE = get_agn_maskbits('../py/agnmask.yaml')"
   ]
  },
  {
   "cell_type": "markdown",
   "id": "12fd4284-ca86-45c9-a85b-74cb2bcbef9b",
   "metadata": {
    "tags": []
   },
   "source": [
    "These are the bitmask which contain the infomation. The format of these bitmasks is:    \n",
    "\n",
    "    - [name of the target bit,  bit value,  \"description as a string\"]\n",
    "    \n",
    "For example:\n",
    "\n",
    "    - [NII_SY,           8, \"NII BPT Seyfert\"]\n",
    "    \n",
    "This means the name of the target bit is NII_SY, its bit value is 2$^{8}$ and its description is a Seyfert object according to the NII BPT.\n",
    "\n",
    "So let's see what the bitmasks look like."
   ]
  },
  {
   "cell_type": "code",
   "execution_count": null,
   "id": "16cfbc96-2891-4f12-9888-3b0be3d4837b",
   "metadata": {
    "tags": []
   },
   "outputs": [],
   "source": [
    "print(AGN_MASKBITS)"
   ]
  },
  {
   "cell_type": "code",
   "execution_count": null,
   "id": "b1799dcc-5127-43bf-8382-1f0871ee0e83",
   "metadata": {
    "tags": []
   },
   "outputs": [],
   "source": [
    "print(OPT_UV_TYPE)"
   ]
  },
  {
   "cell_type": "markdown",
   "id": "6024b94b-0a6e-4c8d-b17b-a4ec4d550238",
   "metadata": {},
   "source": [
    "## 1) How to find the number of certain classes\n",
    "\n",
    "### Examples: NII BPT LINER and Star-forming (SF) galaxies"
   ]
  },
  {
   "cell_type": "code",
   "execution_count": null,
   "id": "4f3efd84-3818-4a89-b1c9-3d84fb688e3a",
   "metadata": {
    "tags": []
   },
   "outputs": [],
   "source": [
    "is_nii_liner = (T['OPT_UV_TYPE'] & OPT_UV_TYPE.NII_LINER != 0)\n",
    "len(T[is_nii_liner])"
   ]
  },
  {
   "cell_type": "code",
   "execution_count": null,
   "id": "df071099-48d7-4eee-9c60-2d1d00e83fa3",
   "metadata": {
    "tags": []
   },
   "outputs": [],
   "source": [
    "is_nii_sf = (T['OPT_UV_TYPE'] & OPT_UV_TYPE.NII_SF != 0)\n",
    "len(T[is_nii_sf])"
   ]
  },
  {
   "cell_type": "markdown",
   "id": "ca33e2cf-1996-47b4-bf70-ef32bf2c2d5b",
   "metadata": {},
   "source": [
    "## 2) How to plot distributions\n",
    "\n",
    "### Compare redshift distributions of different AGN classes"
   ]
  },
  {
   "cell_type": "code",
   "execution_count": null,
   "id": "0b70cdea-d245-479d-90fa-0884f627950b",
   "metadata": {},
   "outputs": [],
   "source": [
    "#agntypes = ['RR', 'MGII', 'QN', 'QN_BGS', 'QN_ELG', 'BPT_ANY_SY', 'OPT_OTHER_AGN', 'WISE_ANY_AGN']\n",
    "#colors = ['red', 'purple', 'tab:purple', 'tab:cyan', 'tab:blue', 'blue', 'green', 'black']\n",
    "agntypes = ['RR', 'MGII', 'QN', 'QN_BGS', 'QN_ELG', 'BPT_ANY_SY', 'WISE_ANY_AGN']\n",
    "colors = ['red', 'purple', 'tab:purple', 'tab:cyan', 'tab:blue', 'blue', 'black']\n",
    "\n",
    "agnany = (T['AGN_MASKBITS'] & AGN_MASKBITS['AGN_ANY'] !=0)\n",
    "\n",
    "fig, (ax1, ax2) = plt.subplots(1, 2, figsize=(20,6), sharex=True)\n",
    "\n",
    "# Left-hand panel: full catalog + only secure redshifts\n",
    "ax1.hist(T['Z'],bins=100,range=(0,4), histtype='step', lw=2, color='gray', ls='--', label='All')\n",
    "ax1.hist(T['Z'][T['ZWARN']==0],bins=100,range=(0,4), histtype='step', lw=2, color='k', label='ZWARN=0')\n",
    "ax1.hist(T['Z'][(T['ZWARN']==0)&(T['OPT_UV_TYPE'] & OPT_UV_TYPE.WHAN != 0)],bins=100,range=(0,4), histtype='step', lw=2, color='orange', label='WHAN available')\n",
    "ax1.hist(T['Z'][(T['ZWARN']==0)&(T['OPT_UV_TYPE'] & OPT_UV_TYPE.NII_BPT != 0)],bins=100,range=(0,4), histtype='step', lw=2, color='b', label='BPT available')\n",
    "ax1.hist(T['Z'][agnany&(T['ZWARN']==0)],bins=100,range=(0,4), histtype='step', lw=2, color='red', label='AGN_ANY')\n",
    "\n",
    "# Right-hand panel: selected classes of AGN/QSO\n",
    "for i, agn in enumerate(agntypes):\n",
    "    sel = (T['AGN_MASKBITS'] & AGN_MASKBITS[agn] != 0)\n",
    "    col = colors[i]\n",
    "    ax2.hist(T['Z'][sel],bins=100,range=(0,4), alpha=0.1, color=col)\n",
    "    ax2.hist(T['Z'][sel],bins=100,range=(0,4), label=agn, histtype='step', lw=2, color=col)\n",
    "\n",
    "# Axis labels\n",
    "ax1.set_xlabel('Redshift')\n",
    "ax1.set_ylabel('Number of spectra')\n",
    "ax2.set_xlabel('Redshift')\n",
    "\n",
    "# Legends\n",
    "ax1.legend(fontsize=14)\n",
    "ax2.legend(fontsize=14)\n",
    "plt.show()"
   ]
  },
  {
   "cell_type": "code",
   "execution_count": null,
   "id": "eb9b2299-b9a8-488c-acaa-c56e594b2930",
   "metadata": {},
   "outputs": [],
   "source": [
    "## To Do: add a second panel to showcase some \"OTHER_OPT_UV\" diagnostics so extending to z~1 or z~1.5 as appropriate\n",
    "\n",
    "## Focusin on low-z, BPT\n",
    "agntypes = ['BPT_ANY_AGN', 'BPT_ANY_SY']\n",
    "colors = ['tab:cyan', 'green']\n",
    "fig, (ax1, ax2) = plt.subplots(1, 2, figsize=(20,6), sharex=False)\n",
    "\n",
    "zr1 = (0,0.52)\n",
    "\n",
    "# Left-hand panel: full catalog + only secure redshifts\n",
    "ax1.hist(T['Z'],bins=100,range=zr1, histtype='step', lw=2, color='gray', ls='--', label='All')\n",
    "ax1.hist(T['Z'][T['ZWARN']==0],bins=100,range=zr1, histtype='step', lw=2, color='k', label='ZWARN=0')\n",
    "\n",
    "# Available\n",
    "ax1.hist(T['Z'][(T['ZWARN']==0)&(T['OPT_UV_TYPE'] & OPT_UV_TYPE.NII_BPT != 0)],bins=100,range=zr1, histtype='step', lw=2, color='b', label='BPT available')\n",
    "\n",
    "## AGN ANY\n",
    "ax1.hist(T['Z'][agnany&(T['ZWARN']==0)],bins=100,range=zr1, histtype='step', lw=2, color='red', label='AGN_ANY')\n",
    "\n",
    "#selected classes of AGN/QSO\n",
    "for i, agn in enumerate(agntypes):\n",
    "    sel = (T['AGN_MASKBITS'] & AGN_MASKBITS[agn] != 0)\n",
    "    col = colors[i]\n",
    "    ax1.hist(T['Z'][sel],bins=100,range=zr1, alpha=0.1, color=col)\n",
    "    ax1.hist(T['Z'][sel],bins=100,range=zr1, label=agn, histtype='step', lw=2, color=col)\n",
    "\n",
    "ax1.set_xlim(zr1)\n",
    "\n",
    "## Right-hand panel\n",
    "zr2 = (0,1.)\n",
    "optuv_types = ['WHAN_SAGN', 'BLUE_AGN', 'MEX_AGN', 'KEX_AGN']\n",
    "colors = ['tab:cyan', 'blue', 'green', 'purple']\n",
    "\n",
    "# full catalog + only secure redshifts\n",
    "#ax2.hist(T['Z'],bins=100,range=zr2, histtype='step', lw=2, color='gray', ls='--', label='All')\n",
    "#ax2.hist(T['Z'][T['ZWARN']==0],bins=100,range=zr2, histtype='step', lw=2, color='k', label='ZWARN=0')\n",
    "\n",
    "# Available\n",
    "ax2.hist(T['Z'][(T['ZWARN']==0)&(T['OPT_UV_TYPE'] & OPT_UV_TYPE.WHAN != 0)],bins=100,range=zr2, histtype='step', lw=2, color='orange', label='WHAN available')\n",
    "\n",
    "## AGN ANY\n",
    "ax2.hist(T['Z'][agnany&(T['ZWARN']==0)],bins=100,range=zr2, histtype='step', lw=2, color='red', label='AGN_ANY')\n",
    "\n",
    "## OPT_OTHER_AGN (seems to have a bug as it only picked up WHAN and not MEx, Blue, KEx)\n",
    "## Also KEx is missing entirely??\n",
    "sel = (T['AGN_MASKBITS'] & AGN_MASKBITS['OPT_OTHER_AGN'] != 0)\n",
    "ax2.hist(T['Z'][sel],bins=100,range=zr2, histtype='step', lw=4, color='brown', label='OPT_OTHER_AGN')\n",
    "#&(T['ZWARN']==0)\n",
    "\n",
    "#selected classes of AGN/QSO\n",
    "for i, agn in enumerate(optuv_types):\n",
    "    sel = (T['OPT_UV_TYPE'] & OPT_UV_TYPE[agn] != 0)\n",
    "    col = colors[i]\n",
    "    ax2.hist(T['Z'][sel],bins=100,range=zr2, alpha=0.1, color=col)\n",
    "    ax2.hist(T['Z'][sel],bins=100,range=zr2, label=agn, histtype='step', lw=2, color=col)\n",
    "\n",
    "# Legends\n",
    "ax1.legend()\n",
    "ax2.legend()\n",
    "\n",
    "# Axis labels\n",
    "ax1.set_xlabel('Redshift')\n",
    "ax1.set_ylabel('Number of spectra')\n",
    "ax2.set_xlabel('Redshift')\n",
    "\n",
    "plt.show()"
   ]
  },
  {
   "cell_type": "markdown",
   "id": "135fbebe-b383-405f-ab03-5f7d817b775d",
   "metadata": {},
   "source": [
    "## 3) Let's try to filter by some BPT AGN diagnostics and plot the result.\n",
    "\n",
    "Let's begin with the BPT plots.\n",
    "\n",
    "To plot the BPT plots we'll need to find the logarithm of the ratios needed for the x and y axes."
   ]
  },
  {
   "cell_type": "code",
   "execution_count": null,
   "id": "46b2840f-dac2-45e2-9745-a0b3986c6362",
   "metadata": {
    "tags": []
   },
   "outputs": [],
   "source": [
    "xx_bptnii = np.log10(T2['NII_6584_FLUX']/T2['HALPHA_FLUX'])\n",
    "xx_bptsii = np.log10((T2['SII_6716_FLUX']+T2['SII_6731_FLUX'])/T2['HALPHA_FLUX'])\n",
    "xx_bptoi = np.log10(T2['OI_6300_FLUX']/T2['HALPHA_FLUX'])\n",
    "yy_bpt = np.log10(T2['OIII_5007_FLUX']/T2['HBETA_FLUX'])"
   ]
  },
  {
   "cell_type": "markdown",
   "id": "e119a75f-6f05-45f0-b32e-7936e0196046",
   "metadata": {},
   "source": [
    "Now let's use our bitmask to filter these vectors. \n",
    "\n",
    "As an example let's think about how we might filter the NII BPT star-forming objects. In the AGN_TYPE bitmask the star-forming objects are defined with:\n",
    "\n",
    "    AGN_TYPE:\n",
    "    ...\n",
    "    - [NII_SF,           6, \"NII BPT Star-forming\"]\n",
    "    ...\n",
    "    \n",
    "Accessing the OPT_UV_TYPE column of our table, T, is done through:\n",
    "\n",
    "    T['OPT_UV_TYPE']\n",
    "    \n",
    "This is where the numeric value associated with our binary number is stored. \n",
    "    \n",
    "We filter a bitmask by identfying a bit that is flipped to a 1. 2^0=1, 2^1=10, 2^2=100, 2^3=1000...\n",
    "\n",
    "So for example if T['OPT_UV_TYPE'] is 11 then the binary represenation would be 1011 formed from 11 = 8+2+1 = 2^3+2^1+2^0 = 1000 + 10 + 1. \n",
    "\n",
    "In this case for the first 4 bitvalues we would find:\n",
    "\n",
    "for bitnumber of 11\n",
    "\n",
    "    is 2^0 true = 1\n",
    "    is 2^1 true = 1\n",
    "    is 2^2 true = 0\n",
    "    is 2^3 true = 1\n",
    "    \n",
    "in pseudo code we could express this as\n",
    "\n",
    "    is_0 = ( 11 & 2^0 != 0)\n",
    "    is_1 = ( 11 & 2^1 != 0)\n",
    "    is_2 = ( 11 & 2^2 != 0)\n",
    "    is_3 = ( 11 & 2^3 != 0)\n",
    "    \n",
    "Now let's return to think about the case of is our 'OPT_UV_TYPE' diagnostic NII_SF. We could write this as:    \n",
    "\n",
    "    is_nii_sf = (T['OPT_UV_TYPE'] & AGN_TYPE.NII_SF != 0)\n",
    "    \n"
   ]
  },
  {
   "cell_type": "markdown",
   "id": "e80b3983-5fb7-4965-946e-01690f0e705b",
   "metadata": {
    "tags": []
   },
   "source": [
    "Using this logic, let's try filtering and printing the NII, SII and OI BPT plot."
   ]
  },
  {
   "cell_type": "code",
   "execution_count": null,
   "id": "cfd67a47-adf0-4aca-9794-1aa98c80f91e",
   "metadata": {
    "tags": []
   },
   "outputs": [],
   "source": [
    "is_nii_sf = (T['OPT_UV_TYPE'] & OPT_UV_TYPE.NII_SF != 0)\n",
    "is_nii_sy = (T['OPT_UV_TYPE'] & OPT_UV_TYPE.NII_SY != 0)\n",
    "is_nii_lin = (T['OPT_UV_TYPE'] & OPT_UV_TYPE.NII_LINER != 0)\n",
    "is_nii_comp = (T['OPT_UV_TYPE'] & OPT_UV_TYPE.NII_COMP != 0)\n",
    "\n",
    "is_sii_sf = (T['OPT_UV_TYPE'] & OPT_UV_TYPE.SII_SF != 0)\n",
    "is_sii_sy = (T['OPT_UV_TYPE'] & OPT_UV_TYPE.SII_SY != 0)\n",
    "is_sii_lin = (T['OPT_UV_TYPE'] & OPT_UV_TYPE.SII_LINER != 0)\n",
    "\n",
    "is_oi_sf = (T['OPT_UV_TYPE'] & OPT_UV_TYPE.OI_SF != 0)\n",
    "is_oi_sy = (T['OPT_UV_TYPE'] & OPT_UV_TYPE.OI_SY != 0)\n",
    "is_oi_lin = (T['OPT_UV_TYPE'] & OPT_UV_TYPE.OI_LINER != 0)\n",
    "\n",
    "###### TO DO ########\n",
    "## Fix plotting range to more reasonable values \n",
    "##\n",
    "\n",
    "\n",
    "## Parameters for all plots\n",
    "norm_min, norm_max = 0.3, 200\n",
    "\n",
    "## Initialize figure\n",
    "plt.figure(figsize = (24,7.5))\n",
    "\n",
    "plt.subplot2grid((1,3), (0,0))\n",
    "plt.title('[NII]-BPT')\n",
    "plt.hexbin(xx_bptnii[is_nii_sf], yy_bpt[is_nii_sf], bins=100, norm=LogNorm(norm_min, norm_max), cmap='Blues')\n",
    "plt.hexbin(xx_bptnii[is_nii_sy], yy_bpt[is_nii_sy], bins=100, norm=LogNorm(norm_min, norm_max), cmap='Reds')\n",
    "plt.hexbin(xx_bptnii[is_nii_comp], yy_bpt[is_nii_comp], bins=100, norm=LogNorm(norm_min, norm_max), cmap='Greens')\n",
    "plt.hexbin(xx_bptnii[is_nii_lin], yy_bpt[is_nii_lin], bins=100, norm=LogNorm(norm_min, norm_max), cmap='Purples')\n",
    "plt.xlabel('log ([NII]/H$\\\\alpha$)')\n",
    "plt.ylabel('log ([OIII]/H$\\\\beta$)')\n",
    "\n",
    "plt.subplot2grid((1,3), (0,1))\n",
    "plt.title('[SII]-BPT')\n",
    "plt.hexbin(xx_bptsii[is_sii_sf], yy_bpt[is_sii_sf], bins=100, norm=LogNorm(norm_min, norm_max), cmap='Blues')\n",
    "plt.hexbin(xx_bptsii[is_sii_sy], yy_bpt[is_sii_sy], bins=100, norm=LogNorm(norm_min, norm_max), cmap='Reds')\n",
    "plt.hexbin(xx_bptsii[is_sii_lin], yy_bpt[is_sii_lin], bins=100, norm=LogNorm(norm_min, norm_max), cmap='Purples')\n",
    "plt.xlabel('log ([SII]/H$\\\\alpha$)')\n",
    "plt.ylabel('log ([OIII]/H$\\\\beta$)')\n",
    "\n",
    "plt.subplot2grid((1,3), (0,2))\n",
    "plt.title('[OI]-BPT')\n",
    "plt.hexbin(xx_bptoi[is_oi_sf], yy_bpt[is_oi_sf], bins=100, norm=LogNorm(norm_min, norm_max), cmap='Blues')\n",
    "plt.hexbin(xx_bptoi[is_oi_sy], yy_bpt[is_oi_sy], bins=100, norm=LogNorm(norm_min, norm_max), cmap='Reds')\n",
    "plt.hexbin(xx_bptoi[is_oi_lin], yy_bpt[is_oi_lin], bins=100, norm=LogNorm(norm_min, norm_max), cmap='Purples')\n",
    "plt.xlabel('log ([OI]/H$\\\\alpha$)')\n",
    "plt.ylabel('log ([OIII]/H$\\\\beta$)')\n",
    "\n",
    "plt.show()"
   ]
  },
  {
   "cell_type": "code",
   "execution_count": null,
   "id": "e6484451-45c2-4776-8405-6125a7dc8299",
   "metadata": {
    "tags": []
   },
   "outputs": [],
   "source": [
    "# AGN_MASKBITS BPT_ANY_SY BPT_ANY_AGN\n",
    "mask_is_any_sy = (T['AGN_MASKBITS'] & AGN_MASKBITS.BPT_ANY_SY != 0)\n",
    "mask_is_any_agn = (T['AGN_MASKBITS'] & AGN_MASKBITS.BPT_ANY_AGN != 0)\n",
    "\n",
    "is_any_sy = (is_nii_sy | is_sii_sy | is_oi_sy)\n",
    "is_any_agn = (is_nii_sy | is_sii_sy | is_oi_sy | is_nii_lin | is_sii_lin | is_oi_lin | is_nii_comp)"
   ]
  },
  {
   "cell_type": "code",
   "execution_count": null,
   "id": "5eb2bde4-fca4-4066-8818-1806b94c4c9b",
   "metadata": {
    "tags": []
   },
   "outputs": [],
   "source": [
    "## TO DO: make background BPT all hexbin and **NOT** scatter plots \n",
    "## Alternatively, plot only ~5% or 10% of points\n",
    "\n",
    "plt.figure(figsize = (24,7.5))\n",
    "\n",
    "plt.subplot2grid((1,3), (0,0))\n",
    "plt.title('[NII]-BPT')\n",
    "plt.scatter(xx_bptnii[is_nii_sf], yy_bpt[is_nii_sf], color = 'b', s = 10)\n",
    "plt.scatter(xx_bptnii[is_nii_sy], yy_bpt[is_nii_sy], color = 'r', s = 10)\n",
    "plt.scatter(xx_bptnii[is_nii_comp], yy_bpt[is_nii_comp], color = 'g', s = 10)\n",
    "plt.scatter(xx_bptnii[is_nii_lin], yy_bpt[is_nii_lin], color = 'purple', s = 10)\n",
    "\n",
    "plt.scatter(xx_bptnii[mask_is_any_sy], yy_bpt[mask_is_any_sy], color = 'grey', s = 10, alpha=0.2)\n",
    "plt.scatter(xx_bptnii[mask_is_any_agn], yy_bpt[mask_is_any_agn], color = 'white', s = 10, alpha=0.2)\n",
    "\n",
    "plt.xlabel('log ([NII]/H$\\\\alpha$)')\n",
    "plt.ylabel('log ([OIII]/H$\\\\beta$)')\n",
    "\n",
    "plt.xlim(-4,1)\n",
    "plt.ylim(-1.5,1.5)\n",
    "#\n",
    "\n",
    "plt.subplot2grid((1,3), (0,1))\n",
    "plt.title('[NII]-BPT')\n",
    "plt.scatter(xx_bptnii[is_nii_sf], yy_bpt[is_nii_sf], color = 'b', s = 10)\n",
    "plt.scatter(xx_bptnii[is_nii_sy], yy_bpt[is_nii_sy], color = 'r', s = 10)\n",
    "plt.scatter(xx_bptnii[is_nii_comp], yy_bpt[is_nii_comp], color = 'g', s = 10)\n",
    "plt.scatter(xx_bptnii[is_nii_lin], yy_bpt[is_nii_lin], color = 'purple', s = 10)\n",
    "\n",
    "plt.scatter(xx_bptnii[is_any_sy], yy_bpt[is_any_sy], color = 'grey', s = 10, alpha=0.2)\n",
    "plt.scatter(xx_bptnii[is_any_agn], yy_bpt[is_any_agn], color = 'white', s = 10, alpha=0.2)\n",
    "\n",
    "plt.xlabel('log ([NII]/H$\\\\alpha$)')\n",
    "plt.ylabel('log ([OIII]/H$\\\\beta$)')\n",
    "\n",
    "plt.xlim(-4,1)\n",
    "plt.ylim(-1.5,1.5)\n",
    "\n",
    "\n",
    "# plt.subplot2grid((1,3), (0,1))\n",
    "# plt.title('[SII]-BPT')\n",
    "# plt.scatter(xx_bptsii[is_sii_sf], yy_bpt[is_sii_sf], color = 'b', s = 10)\n",
    "# plt.scatter(xx_bptsii[is_sii_sy], yy_bpt[is_sii_sy], color = 'r', s = 10)\n",
    "# plt.scatter(xx_bptsii[is_sii_lin], yy_bpt[is_sii_lin], color = 'purple', s = 10)\n",
    "\n",
    "# plt.scatter(xx_bptnii[is_any_sy], yy_bpt[is_any_sy], color = 'grey', s = 10, alpha=0.3)\n",
    "# plt.scatter(xx_bptnii[is_any_agn], yy_bpt[is_any_agn], color = 'white', s = 10, alpha=0.3)\n",
    "\n",
    "# plt.xlabel('log ([SII]/H$\\\\alpha$)')\n",
    "# plt.ylabel('log ([OIII]/H$\\\\beta$)')\n",
    "\n",
    "# plt.subplot2grid((1,3), (0,2))\n",
    "# plt.title('[OI]-BPT')\n",
    "# plt.scatter(xx_bptoi[is_oi_sf], yy_bpt[is_oi_sf], color = 'b', s = 10)\n",
    "# plt.scatter(xx_bptoi[is_oi_sy], yy_bpt[is_oi_sy], color = 'r', s = 10)\n",
    "# plt.scatter(xx_bptoi[is_oi_lin], yy_bpt[is_oi_lin], color = 'purple', s = 10)\n",
    "# plt.xlabel('log ([OI]/H$\\\\alpha$)')\n",
    "# plt.ylabel('log ([OIII]/H$\\\\beta$)')\n",
    "\n",
    "plt.show()"
   ]
  },
  {
   "cell_type": "markdown",
   "id": "b995e06e-53c7-4242-b9b1-4d53225f6959",
   "metadata": {},
   "source": [
    "### 4) Let's plot all the diagnostics we have\n",
    "\n",
    "The NII, SII and OI BPT are plotted above. The other optical and UV diagnostics are:\n",
    "\n",
    "1. HeII_BPT\n",
    "2. WHAN\n",
    "3. Blue diagram\n",
    "4. NeV\n",
    "5. MEx\n",
    "6. KEx\n",
    "\n",
    "Let's try these in order below."
   ]
  },
  {
   "cell_type": "markdown",
   "id": "b6eb0161-8341-4dd0-bc59-0e9dec18c45f",
   "metadata": {},
   "source": [
    "#### 1) HeII BPT diagnostic"
   ]
  },
  {
   "cell_type": "code",
   "execution_count": null,
   "id": "dba795ee-b1f8-4eeb-8193-0a46fb275006",
   "metadata": {
    "tags": []
   },
   "outputs": [],
   "source": [
    "xx_bptnii = np.log10(T2['NII_6584_FLUX']/T2['HALPHA_FLUX'])\n",
    "yy_bptheii = np.log10(T2['HEII_4686_FLUX']/T2['HBETA_FLUX'])"
   ]
  },
  {
   "cell_type": "code",
   "execution_count": null,
   "id": "67b24841-8b5a-49e6-99e0-4c2a30962b68",
   "metadata": {
    "tags": []
   },
   "outputs": [],
   "source": [
    "is_heii = (T['OPT_UV_TYPE'] & OPT_UV_TYPE.HEII_BPT != 0)\n",
    "is_heii_sf = (T['OPT_UV_TYPE'] & OPT_UV_TYPE.HEII_SF != 0)\n",
    "is_heii_agn = (T['OPT_UV_TYPE'] & OPT_UV_TYPE.HEII_AGN != 0)"
   ]
  },
  {
   "cell_type": "code",
   "execution_count": null,
   "id": "303d06df-d0b0-42ff-ba31-6b3bdc666236",
   "metadata": {
    "tags": []
   },
   "outputs": [],
   "source": [
    "# log10(flux_heii_4685/flux_hbeta)=-1.22+1/(8.92*log10(flux_nii_6583/flux_halpha)+1.32)\n",
    "x_heiiline = np.linspace(-3,-1.32/8.92,70)\n",
    "y_heiiline = -1.22+1/(8.92*x_heiiline+1.32)"
   ]
  },
  {
   "cell_type": "code",
   "execution_count": null,
   "id": "3b2e0566-cd8b-4acc-ae1a-a2049af607fd",
   "metadata": {
    "tags": []
   },
   "outputs": [],
   "source": [
    "plt.title('[HeII]-BPT')\n",
    "plt.scatter(xx_bptnii[is_heii], yy_bptheii[is_heii], color = 'b', s = 10, label='Available', alpha=0.2)\n",
    "plt.scatter(xx_bptnii[is_heii_sf], yy_bptheii[is_heii_sf], color = 'r', s = 10, label='SF', alpha=0.2)\n",
    "plt.scatter(xx_bptnii[is_heii_agn], yy_bptheii[is_heii_agn], color = 'g', s = 10, label='AGN', alpha=0.2)\n",
    "plt.plot(x_heiiline, y_heiiline)\n",
    "plt.xlabel('log ([NII]/H$\\\\alpha$)')\n",
    "plt.ylabel('log ([HeII]/H$\\\\beta$)')\n",
    "plt.xlim(-3, 1)\n",
    "plt.ylim(-3, 1)\n",
    "plt.legend(markerscale=3)\n",
    "plt.show()"
   ]
  },
  {
   "cell_type": "markdown",
   "id": "64402fe4-10bd-44e6-9fa4-67c28ac1997c",
   "metadata": {},
   "source": [
    "#### 2) WHAN"
   ]
  },
  {
   "cell_type": "code",
   "execution_count": null,
   "id": "a399e804-7b27-4126-875b-ef39685f7a5b",
   "metadata": {
    "tags": []
   },
   "outputs": [],
   "source": [
    "from matplotlib.lines import Line2D\n",
    "#we define the masks required for the classification of AGNs for the WHAN BPT diagram\n",
    "is_whan_av = (T['OPT_UV_TYPE'] & OPT_UV_TYPE.WHAN !=0)\n",
    "#creating the subcatalog for the objects for which the WHAN is available\n",
    "T_WHAN = T[is_whan_av]\n",
    "T2_WHAN = T2[is_whan_av]\n",
    "xx_bptwhan=np.log10((T2_WHAN['NII_6584_FLUX']/T2_WHAN['HALPHA_FLUX'])) \n",
    "yy_Wha = T2_WHAN['HALPHA_EW'] #getting the width of H-alpha line\n",
    "#creating the masks for different WHAN objects\n",
    "is_whan_sf = (T_WHAN['OPT_UV_TYPE'] & OPT_UV_TYPE.WHAN_SF !=0)  #Star forming galaxies mask\n",
    "is_whan_sagn = (T_WHAN['OPT_UV_TYPE'] & OPT_UV_TYPE.WHAN_SAGN != 0) #strong AGN mask\n",
    "is_whan_wagn = (T_WHAN['OPT_UV_TYPE'] & OPT_UV_TYPE.WHAN_WAGN != 0) #weak AGN mask\n",
    "is_whan_ret = (T_WHAN['OPT_UV_TYPE'] & OPT_UV_TYPE.WHAN_RET !=0) #retired galaxies mask\n",
    "is_whan_pass = (T_WHAN['OPT_UV_TYPE'] & OPT_UV_TYPE.WHAN_PASS !=0) #passive galaxies mask\n",
    "size = 0.02 #modify according to the choice of points in the scatter plot\n",
    "#initializing the figure properties\n",
    "plt.figure(figsize=(12,8))\n",
    "plt.title('WHAN diagram')\n",
    "#creating the WHAN BPT diagram\n",
    "plt.scatter(xx_bptwhan[is_whan_wagn], yy_Wha[is_whan_wagn], color='darkgreen', s=size, label='wAGN')\n",
    "plt.scatter(xx_bptwhan[is_whan_sagn], yy_Wha[is_whan_sagn], color = 'lime', s=size, label='sAGN')\n",
    "plt.scatter(xx_bptwhan[is_whan_ret], yy_Wha[is_whan_ret], color= 'navy', s=size, label='RG')\n",
    "plt.scatter(xx_bptwhan[is_whan_pass], yy_Wha[is_whan_pass], color = 'r', s=size, label='Passive Galaxies')\n",
    "plt.scatter(xx_bptwhan[is_whan_sf], yy_Wha[is_whan_sf], color = 'slateblue', s=size, label='SF')\n",
    "#defining the theoretical cuts for different objects\n",
    "x_cutoff_SF = -0.4 #star forming WHAN cutoff criteria\n",
    "plt.plot([x_cutoff_SF, x_cutoff_SF], [3, 10**3], color='black')\n",
    "y_cutoff_sAGN = 6 #strong AGN WHAN cutoff criteria\n",
    "plt.plot([-0.4, 1], [y_cutoff_sAGN, y_cutoff_sAGN], color='black')\n",
    "plt.axhline(y=3, color='black') #criteria for the retired galaxies, also referred to as the fake AGNs\n",
    "plt.xlabel('log [NII]/H$\\\\alpha$') \n",
    "plt.ylabel('$W_H\\\\alpha [{\\AA}]$')\n",
    "plt.yscale('log')\n",
    "#defining the limits of the plot\n",
    "plt.xlim(-2, 1)\n",
    "plt.ylim(0.1, 10**3)\n",
    "#defining the legends of the scatter plot separately for better visualization\n",
    "legend_elements = [\n",
    "    Line2D([0], [0], marker='o', color='w', label='wAGN', markerfacecolor='darkgreen', markersize=10),\n",
    "    Line2D([0], [0], marker='o', color='w', label='sAGN', markerfacecolor='lime', markersize=10),\n",
    "    Line2D([0], [0], marker='o', color='w', label='RG', markerfacecolor='navy', markersize=10),\n",
    "    Line2D([0], [0], marker='o', color='w', label='Passive Galaxies', markerfacecolor='r', markersize=10),\n",
    "    Line2D([0], [0], marker='o', color='w', label='SF', markerfacecolor='slateblue', markersize=10)\n",
    "]\n",
    "# Customize legend with larger markers\n",
    "plt.legend(handles=legend_elements, loc='best')"
   ]
  },
  {
   "cell_type": "markdown",
   "id": "2dda3c7a-1a9d-4ad9-b864-44f7565e2f47",
   "metadata": {},
   "source": [
    "#### 3) Blue diagram"
   ]
  },
  {
   "cell_type": "code",
   "execution_count": null,
   "id": "b8b1ebf3-49e9-4e72-a86d-f6855e88def0",
   "metadata": {
    "tags": []
   },
   "outputs": [],
   "source": [
    "# Create masks for each of the Blue diagnostic subsets\n",
    "blue_av_mask = T['OPT_UV_TYPE'] & OPT_UV_TYPE.BLUE != 0 \n",
    "blue_agn_mask = T['OPT_UV_TYPE'] & OPT_UV_TYPE.BLUE_AGN != 0\n",
    "blue_slc_mask = T['OPT_UV_TYPE'] & OPT_UV_TYPE.BLUE_SLC != 0\n",
    "blue_liner_mask = T['OPT_UV_TYPE'] & OPT_UV_TYPE.BLUE_LINER != 0\n",
    "blue_sf_mask = T['OPT_UV_TYPE'] & OPT_UV_TYPE.BLUE_SF != 0\n",
    "blue_sfagn_mask = T['OPT_UV_TYPE'] & OPT_UV_TYPE.BLUE_SFAGN != 0"
   ]
  },
  {
   "cell_type": "code",
   "execution_count": null,
   "id": "7c37fd2d-a7a4-472f-aa8e-7a3ba8cc48ac",
   "metadata": {
    "tags": []
   },
   "outputs": [],
   "source": [
    "# Set our plotting data axes\n",
    "xx_blue = np.log10(T2['OII_3726_EW'] / T2['HBETA_EW'])\n",
    "yy_blue = np.log10(T2['OIII_5007_FLUX'] / T2['HBETA_FLUX'])"
   ]
  },
  {
   "cell_type": "code",
   "execution_count": null,
   "id": "c8f086a5-fbe6-49e7-bce3-fa637e4e1987",
   "metadata": {
    "tags": []
   },
   "outputs": [],
   "source": [
    "# lines\n",
    "xx_blue_main_lines = np.linspace(-2., 0.9, num=200)\n",
    "xx_blue_slc_lines = np.linspace(0.09, 1.06)\n",
    "blue_main_line = 0.11 / (xx_blue_main_lines - 0.92) + 0.85\n",
    "blue_eq3a = -(xx_blue_slc_lines - 1.)**2 - 0.1 * xx_blue_slc_lines + 0.25\n",
    "blue_eq3b = (xx_blue_slc_lines - 0.2)**2 - 0.6"
   ]
  },
  {
   "cell_type": "code",
   "execution_count": null,
   "id": "4e49b630-0bc1-410f-9736-f16fea6739c0",
   "metadata": {
    "tags": []
   },
   "outputs": [],
   "source": [
    "fig, (ax, bx) = plt.subplots(ncols=2, figsize=(12, 6))\n",
    "ax.scatter(xx_blue[blue_sf_mask], yy_blue[blue_sf_mask], marker='.', s=5, color='blue', label='SF')\n",
    "ax.scatter(xx_blue[blue_liner_mask], yy_blue[blue_liner_mask], marker='.', s=5, color='cyan', label='LINER')\n",
    "ax.plot(xx_blue_main_lines, blue_main_line, color='r')\n",
    "ax.plot(xx_blue_slc_lines, blue_eq3a, color='k', ls='--')\n",
    "ax.plot(xx_blue_slc_lines, blue_eq3b, color='k', ls='--')\n",
    "\n",
    "bx.scatter(xx_blue[blue_slc_mask], yy_blue[blue_slc_mask], marker='.', s=5, color='magenta', label='SLC')\n",
    "bx.scatter(xx_blue[blue_agn_mask], yy_blue[blue_agn_mask], marker='.', s=5, color='lime', label='AGN')\n",
    "bx.scatter(xx_blue[blue_sfagn_mask], yy_blue[blue_sfagn_mask], marker='.', s=5, color='green', label='SFAGN')\n",
    "bx.plot(xx_blue_main_lines, blue_main_line, color='r')\n",
    "bx.plot(xx_blue_slc_lines, blue_eq3a, color='k', ls='--')\n",
    "bx.plot(xx_blue_slc_lines, blue_eq3b, color='k', ls='--')\n",
    "\n",
    "ax.legend()\n",
    "ax.set(xlabel=r'$\\log(([\\mathrm{OII}]\\lambda\\lambda 3726,3729) / (\\mathrm{H}\\beta))$',\n",
    "       ylabel=r'$\\log([\\mathrm{OIII}]\\lambda 5007 / \\mathrm{H}\\beta)$',\n",
    "       xlim=[-1.25, 2.45], ylim=[-1., 1.7])\n",
    "bx.legend()\n",
    "bx.set(xlim=[-1.25, 2.45], ylim=[-1., 1.7])\n",
    "\n",
    "fig.suptitle('Blue Classification Lamareille et al. (2004, 2010)')\n",
    "# plt.axis('scaled')\n",
    "plt.show()"
   ]
  },
  {
   "cell_type": "markdown",
   "id": "f6d5e84a-e012-4492-883e-1de5f51319fe",
   "metadata": {},
   "source": [
    "#### 4) NeV"
   ]
  },
  {
   "cell_type": "code",
   "execution_count": null,
   "id": "697029d3-591b-4567-a593-9b5d383de502",
   "metadata": {
    "tags": []
   },
   "outputs": [],
   "source": [
    "snr_nev = T2['NEV_3426_FLUX']*np.sqrt(T2['NEV_3426_FLUX_IVAR'])\n",
    "is_nev = (T['OPT_UV_TYPE'] & OPT_UV_TYPE.NEV != 0)\n",
    "is_nev_sf = (T['OPT_UV_TYPE'] & OPT_UV_TYPE.NEV_SF != 0)\n",
    "is_nev_agn = (T['OPT_UV_TYPE'] & OPT_UV_TYPE.NEV_AGN != 0)\n",
    "plt.title('[NeV]λ3426')\n",
    "n, _, _ = plt.hist(snr_nev[is_nev], color = 'b', label='Available', alpha=0.2)\n",
    "plt.hist(snr_nev[is_nev_sf], color = 'r', label='SF', alpha=0.2, bins=30)\n",
    "plt.hist(snr_nev[is_nev_agn], color = 'g', label='AGN', alpha=0.2, bins=30)\n",
    "plt.vlines(3, 0, max(n))\n",
    "plt.xlabel('[NeV]λ3426 SNR')\n",
    "plt.ylabel('N')\n",
    "plt.yscale('log')\n",
    "plt.xscale('log')\n",
    "plt.legend()\n",
    "plt.show() "
   ]
  },
  {
   "cell_type": "markdown",
   "id": "22d0c25b-d2ba-4296-8a4b-9dad36786ac4",
   "metadata": {},
   "source": [
    "#### 5) MEx (Mass-Excitation) diagnostic diagram"
   ]
  },
  {
   "cell_type": "code",
   "execution_count": null,
   "id": "5ddd1ad3-2bdd-4ea2-b1d3-a909b5fd9e45",
   "metadata": {},
   "outputs": [],
   "source": []
  },
  {
   "cell_type": "markdown",
   "id": "5478ac5e-be9b-4ab0-b9b3-1ab7a138f5f7",
   "metadata": {},
   "source": [
    "#### 6) KEx"
   ]
  },
  {
   "cell_type": "code",
   "execution_count": null,
   "id": "fffe0138-5ff2-48e1-ba2b-ce993f57651a",
   "metadata": {},
   "outputs": [],
   "source": []
  }
 ],
 "metadata": {
  "kernelspec": {
   "display_name": "DESI main",
   "language": "python",
   "name": "desi-main"
  },
  "language_info": {
   "codemirror_mode": {
    "name": "ipython",
    "version": 3
   },
   "file_extension": ".py",
   "mimetype": "text/x-python",
   "name": "python",
   "nbconvert_exporter": "python",
   "pygments_lexer": "ipython3",
   "version": "3.10.14"
  }
 },
 "nbformat": 4,
 "nbformat_minor": 5
}
