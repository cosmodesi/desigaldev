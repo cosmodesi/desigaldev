{
 "cells": [
  {
   "cell_type": "markdown",
   "id": "08aa76ec-552f-4970-9e8d-9da17e6184d9",
   "metadata": {},
   "source": [
    "# Split zpix catalogs for Loa\n",
    "Stephanie Juneau (NOIRLab)\n",
    "\n",
    "\n",
    "Data team generates individual survey/program zpix files for all targets:\n",
    "```\n",
    "## zcat path \n",
    "path_zcat = '/global/cfs/cdirs/desi/spectro/redux/loa/zcatalog/v1/'\n",
    "```\n",
    "\n",
    "We need to split the files for `main/dark` and `main/bright` in the same way as for the Fastspecfit files with NSIDE=1 Healpixels:\n",
    "```\n",
    "from desimodel.footprint import radec2pix\n",
    "pix = radec2pix(nside=1, RA, DEC)\n",
    "survey = 'main'\n",
    "prog = 'dark'\n",
    "ffile = f'fastspec-loa-{survey}-{prog}-nside1-hp{pix:02}.fits'\n",
    "zfile = f'zpix-{survey}-{prog}-nside1-hp{pix:02}.fits'\n",
    "```\n",
    "\n",
    "## Imports"
   ]
  },
  {
   "cell_type": "code",
   "execution_count": 22,
   "id": "4e41a1a7-37bf-4796-89a7-0337d9937e53",
   "metadata": {},
   "outputs": [],
   "source": [
    "# General imports\n",
    "import numpy as np\n",
    "\n",
    "# Import Astropy libraries - useful for many astronomy related function\n",
    "from astropy.table import Table, vstack\n",
    "from astropy.io import fits\n",
    "\n",
    "# Fast FITS file I/O access\n",
    "import fitsio\n"
   ]
  },
  {
   "cell_type": "markdown",
   "id": "e1537d4a-6e47-4316-a2b2-dec9e26278fb",
   "metadata": {},
   "source": [
    "## Data files"
   ]
  },
  {
   "cell_type": "code",
   "execution_count": 23,
   "id": "a591bdc2-786f-43c3-bf2d-2a259abd9602",
   "metadata": {},
   "outputs": [],
   "source": [
    "## Define filepaths (same for Loa)\n",
    "path_zcat = '/global/cfs/cdirs/desi/spectro/redux/loa/zcatalog/v1/'\n",
    "path_gqp = '/global/cfs/cdirs/desi/science/gqp/agncatalog/zpix_nside1/loa/v1/'"
   ]
  },
  {
   "cell_type": "code",
   "execution_count": 40,
   "id": "3e731bbd-8bae-4c3f-8f19-6c40f850f913",
   "metadata": {},
   "outputs": [
    {
     "name": "stdout",
     "output_type": "stream",
     "text": [
      "['TARGETID', 'HEALPIX', 'Z', 'ZERR', 'ZWARN', 'SPECTYPE', 'COADD_FIBERSTATUS', 'TARGET_RA', 'TARGET_DEC', 'OBJTYPE', 'MIN_MJD', 'MEAN_MJD', 'MAX_MJD', 'COADD_NUMEXP', 'COADD_EXPTIME', 'DESI_TARGET', 'SCND_TARGET', 'BGS_TARGET']\n"
     ]
    }
   ],
   "source": [
    "## SJ: will exclude the targeting cols because we'll add them from the zcat VAC instead \n",
    "#qsom_cols=['TARGETID','Z','ZERR','ZWARN','SPECTYPE','COADD_FIBERSTATUS','TARGET_RA','TARGET_DEC',\\\n",
    "#           'MORPHTYPE','EBV','MASKBITS','DESI_TARGET','SCND_TARGET','COADD_NUMEXP','COADD_EXPTIME',\\\n",
    "#           'CMX_TARGET','SV1_DESI_TARGET','SV2_DESI_TARGET','SV3_DESI_TARGET',\\\n",
    "#           'SV1_SCND_TARGET','SV2_SCND_TARGET','SV3_SCND_TARGET','TSNR2_LYA','TSNR2_QSO',\\\n",
    "#           'DELTA_CHI2_MGII','A_MGII','SIGMA_MGII','B_MGII','VAR_A_MGII','VAR_SIGMA_MGII','VAR_B_MGII',\\\n",
    "#           'Z_RR','Z_QN','C_LYA','C_CIV','C_CIII','C_MgII','C_Hbeta','C_Halpha','QSO_MASKBITS']\n",
    "\n",
    "# Current choice for Loa\n",
    "zcat_cols=['TARGETID', 'HEALPIX', 'Z', 'ZERR', 'ZWARN', 'SPECTYPE', \\\n",
    "            'COADD_FIBERSTATUS','TARGET_RA','TARGET_DEC', 'OBJTYPE', \\\n",
    "            'MIN_MJD','MEAN_MJD','MAX_MJD','COADD_NUMEXP', 'COADD_EXPTIME', \\\n",
    "            'DESI_TARGET', 'SCND_TARGET', 'BGS_TARGET']\n",
    "           #, 'SURVEY', 'PROGRAM', 'LS_ID', \\\n",
    "           # 'SV1_DESI_TARGET', 'SV2_DESI_TARGET', 'SV3_DESI_TARGET', 'SV1_BGS_TARGET', 'SV2_BGS_TARGET', 'SV3_BGS_TARGET', \\\n",
    "           # 'SV1_SCND_TARGET', 'SV2_SCND_TARGET', 'SV3_SCND_TARGET', 'CMX_TARGET'\n",
    "           # 'MAIN_PRIMARY', 'SV_PRIMARY', 'ZCAT_PRIMARY',]\n",
    "## NOTES:\n",
    "# - cut on OBJTYPE then delete the column (wasn't in Fuji/EDR version)\n",
    "\n",
    "print(zcat_cols)"
   ]
  },
  {
   "cell_type": "markdown",
   "id": "185cb867-a69d-4d3c-9bb5-8638501c47ae",
   "metadata": {},
   "source": [
    "## Loop over survey-program combos"
   ]
  },
  {
   "cell_type": "code",
   "execution_count": 33,
   "id": "59d656de-e17c-4dd1-a511-0fbcdb57d3f4",
   "metadata": {},
   "outputs": [
    {
     "name": "stdout",
     "output_type": "stream",
     "text": [
      "4096.0\n"
     ]
    }
   ],
   "source": [
    "# NSIDE = 1; NPIX = 12\t\n",
    "# NSIDE = 64; NPIX = 49152\t\n",
    "print(49152/12)"
   ]
  },
  {
   "cell_type": "code",
   "execution_count": 34,
   "id": "095213a9-886a-4789-89ae-f2053315903d",
   "metadata": {},
   "outputs": [],
   "source": [
    "# Need to batch the healpixels\n",
    "batch_size = 4096\n",
    "\n",
    "# NSIDE=1 healpixels\n",
    "pixs = np.arange(0,12)"
   ]
  },
  {
   "cell_type": "code",
   "execution_count": 42,
   "id": "a7556375-9e28-482b-b486-3b311cded778",
   "metadata": {},
   "outputs": [
    {
     "name": "stdout",
     "output_type": "stream",
     "text": [
      "N=24204098 in file /global/cfs/cdirs/desi/spectro/redux/loa/zcatalog/v1/zpix-main-bright.fits\n",
      "... After cutting on OBTYPE=TGT: N=19613147; (fraction: 0.81)\n",
      "Wrote file  zpix-main-bright-nside1-hp00.fits\n",
      "Wrote file  zpix-main-bright-nside1-hp01.fits\n",
      "Wrote file  zpix-main-bright-nside1-hp02.fits\n",
      "Wrote file  zpix-main-bright-nside1-hp03.fits\n",
      "Wrote file  zpix-main-bright-nside1-hp04.fits\n",
      "Wrote file  zpix-main-bright-nside1-hp05.fits\n",
      "Wrote file  zpix-main-bright-nside1-hp06.fits\n",
      "Wrote file  zpix-main-bright-nside1-hp07.fits\n",
      "Wrote file  zpix-main-bright-nside1-hp08.fits\n",
      "Wrote file  zpix-main-bright-nside1-hp09.fits\n",
      "Wrote file  zpix-main-bright-nside1-hp10.fits\n",
      "Wrote file  zpix-main-bright-nside1-hp11.fits\n",
      "N=29733557 in file /global/cfs/cdirs/desi/spectro/redux/loa/zcatalog/v1/zpix-main-dark.fits\n",
      "... After cutting on OBTYPE=TGT: N=24252859; (fraction: 0.82)\n",
      "Wrote file  zpix-main-dark-nside1-hp00.fits\n",
      "Wrote file  zpix-main-dark-nside1-hp01.fits\n",
      "Wrote file  zpix-main-dark-nside1-hp02.fits\n",
      "Wrote file  zpix-main-dark-nside1-hp03.fits\n",
      "Wrote file  zpix-main-dark-nside1-hp04.fits\n",
      "Wrote file  zpix-main-dark-nside1-hp05.fits\n",
      "Wrote file  zpix-main-dark-nside1-hp06.fits\n",
      "Wrote file  zpix-main-dark-nside1-hp07.fits\n",
      "Wrote file  zpix-main-dark-nside1-hp08.fits\n",
      "Wrote file  zpix-main-dark-nside1-hp09.fits\n",
      "Wrote file  zpix-main-dark-nside1-hp10.fits\n",
      "Wrote file  zpix-main-dark-nside1-hp11.fits\n",
      "CPU times: user 1min 30s, sys: 54.2 s, total: 2min 24s\n",
      "Wall time: 3min 18s\n"
     ]
    }
   ],
   "source": [
    "%%time\n",
    "\n",
    "# List of survey_program combos that need to be split per healpix groups\n",
    "#survey_programs = ['sv1_bright', 'sv1_dark']  # for testing code with smaller files\n",
    "#save_path = path_gqp+'test/'\n",
    "survey_programs = ['main-bright', 'main-dark']  # actual (large) files\n",
    "save_path = path_gqp\n",
    "\n",
    "for i in range(len(survey_programs)):\n",
    "\n",
    "    # Read each file\n",
    "    surv_prog = survey_programs[i]\n",
    "    file_i = path_zcat+f'zpix-{surv_prog}.fits'\n",
    "    T_zcat_i = Table(fitsio.read(file_i, columns=zcat_cols, ext=1)) \n",
    "\n",
    "    # Print some stats:\n",
    "    N_init = len(T_zcat_i)\n",
    "    print(f\"N={N_init} in file {file_i}\")\n",
    "    \n",
    "    ## Keep only OBJTYPE='TGT'\n",
    "    keep = T_zcat_i['OBJTYPE']=='TGT'\n",
    "    T_zcat_i = T_zcat_i[keep]\n",
    "    \n",
    "    # Print some stats:\n",
    "    N_keep = len(T_zcat_i)\n",
    "    print(f\"... After cutting on OBTYPE=TGT: N={N_keep}; (fraction: {np.round(N_keep/N_init, 2)})\")\n",
    "\n",
    "    # Code for splitting in healpix groups\n",
    "    for pix in pixs:\n",
    "        hpx64_min = pix*batch_size\n",
    "        hpx64_max = (pix+1)*batch_size - 1\n",
    "\n",
    "        outfile_pix1 = f'zpix-{surv_prog}-nside1-hp{pix:02}.fits'\n",
    "\n",
    "        hpx_col = T_zcat_i['HEALPIX']\n",
    "        isin_pix = (hpx_col>=hpx64_min)&(hpx_col<=hpx64_max)\n",
    "\n",
    "        N_in_pix = len(T_zcat_i[isin_pix])\n",
    "        if N_in_pix>=1:\n",
    "            T_zcat_i[isin_pix].write(save_path+outfile_pix1)\n",
    "            print('Wrote file ',outfile_pix1)"
   ]
  },
  {
   "cell_type": "code",
   "execution_count": 43,
   "id": "5a6876ea-e439-4b29-b8a7-855c34900c61",
   "metadata": {},
   "outputs": [
    {
     "name": "stdout",
     "output_type": "stream",
     "text": [
      "0 , min, max =  0 4095\n",
      "1 , min, max =  4096 8191\n",
      "2 , min, max =  8192 12287\n",
      "3 , min, max =  12288 16383\n",
      "4 , min, max =  16384 20479\n",
      "5 , min, max =  20480 24575\n",
      "6 , min, max =  24576 28671\n",
      "7 , min, max =  28672 32767\n",
      "8 , min, max =  32768 36863\n",
      "9 , min, max =  36864 40959\n",
      "10 , min, max =  40960 45055\n",
      "11 , min, max =  45056 49151\n"
     ]
    }
   ],
   "source": [
    "# Code for splitting in healpix groups\n",
    "for pix in pixs:\n",
    "    hpx64_min = pix*batch_size\n",
    "    hpx64_max = (pix+1)*batch_size - 1\n",
    "    print(pix, ', min, max = ', hpx64_min, hpx64_max)"
   ]
  },
  {
   "cell_type": "markdown",
   "id": "8344c0eb-5f9a-49da-ab20-902b3028a943",
   "metadata": {},
   "source": [
    "## Record keeping of results from above\n",
    "\n",
    "Looping over all survey-program combos printed this:\n",
    "```\n",
    "N=24204098 in file /global/cfs/cdirs/desi/spectro/redux/loa/zcatalog/v1/zpix-main-bright.fits\n",
    "... After cutting on OBTYPE=TGT: N=19613147; (fraction: 0.81)\n",
    "N=29733557 in file /global/cfs/cdirs/desi/spectro/redux/loa/zcatalog/v1/zpix-main-dark.fits\n",
    "... After cutting on OBTYPE=TGT: N=24252859; (fraction: 0.82)\n",
    "```"
   ]
  },
  {
   "cell_type": "markdown",
   "id": "1ad12b42-8438-4c09-af29-50831976f56e",
   "metadata": {},
   "source": [
    "## Tests and VI below for Iron (repeat for Loa?)"
   ]
  },
  {
   "cell_type": "code",
   "execution_count": null,
   "id": "b01ba28a-6d0a-4142-982c-67fe777c2857",
   "metadata": {},
   "outputs": [],
   "source": [
    "print(170042/18260646)"
   ]
  },
  {
   "cell_type": "code",
   "execution_count": 6,
   "id": "93456686-ffa4-4718-a979-a27ddbc0e745",
   "metadata": {},
   "outputs": [
    {
     "name": "stdout",
     "output_type": "stream",
     "text": [
      "CPU times: user 684 ms, sys: 251 ms, total: 934 ms\n",
      "Wall time: 1.08 s\n"
     ]
    }
   ],
   "source": [
    "%%time\n",
    "#test\n",
    "file_i = path_qsom+\"QSO_cat_iron_sv1_backup_healpix_all_targets_v1.fits\"\n",
    "#file_i = path_qsom+\"QSO_cat_iron_sv3_dark_healpix_all_targets_v1.fits\"\n",
    "#file_i = path_qsom+\"QSO_cat_iron_sv2_bright_healpix_all_targets_v1.fits\" #N=1\n",
    "#file_i = path_qsom+\"QSO_cat_iron_sv2_dark_healpix_all_targets_v1.fits\"\n",
    "\n",
    "#T_qsom_i = Table(fitsio.read(file_i, columns=qsom_cols, ext=1))\n",
    "T_qsom_i = Table(fitsio.read(file_i, ext=1))\n",
    "\n",
    "## Adding two columns we need for the cuts\n",
    "a = np.array([T_qsom_i['C_LYA'], T_qsom_i['C_CIV'], T_qsom_i['C_CIII'], \\\n",
    "              T_qsom_i['C_MgII'], T_qsom_i['C_Hbeta'], T_qsom_i['C_Halpha']])\n",
    "T_qsom_i['QN_C_LINE_BEST'] = [max(l) for l in (a.T).tolist()]\n",
    "T_qsom_i['QN_C_LINE_SECOND_BEST'] = [sorted(l)[-2] for l in (a.T).tolist()]\n"
   ]
  },
  {
   "cell_type": "code",
   "execution_count": 7,
   "id": "875e79de-9e11-4535-bb84-58dac2979906",
   "metadata": {},
   "outputs": [
    {
     "data": {
      "text/plain": [
       "<TableColumns names=('TARGETID','Z','ZERR','ZWARN','SPECTYPE','COADD_FIBERSTATUS','TARGET_RA','TARGET_DEC','OBJTYPE','MORPHTYPE','EBV','FLUX_G','FLUX_R','FLUX_Z','FLUX_W1','FLUX_W2','FLUX_IVAR_G','FLUX_IVAR_R','FLUX_IVAR_Z','FLUX_IVAR_W1','FLUX_IVAR_W2','MASKBITS','SV1_DESI_TARGET','SV1_SCND_TARGET','DESI_TARGET','COADD_NUMEXP','COADD_EXPTIME','CMX_TARGET','SV2_DESI_TARGET','SV3_DESI_TARGET','SV2_SCND_TARGET','SV3_SCND_TARGET','SCND_TARGET','WISE_VAR_QSO','TSNR2_LYA','TSNR2_QSO','DELTA_CHI2_MGII','A_MGII','SIGMA_MGII','B_MGII','VAR_A_MGII','VAR_SIGMA_MGII','VAR_B_MGII','Z_RR','Z_QN','C_LYA','C_CIV','C_CIII','C_MgII','C_Hbeta','C_Halpha','Z_LYA','Z_CIV','Z_CIII','Z_MgII','Z_Hbeta','Z_Halpha','QSO_MASKBITS','HPXPIXEL','SURVEY','PROGRAM','QN_C_LINE_BEST','QN_C_LINE_SECOND_BEST')>"
      ]
     },
     "execution_count": 7,
     "metadata": {},
     "output_type": "execute_result"
    }
   ],
   "source": [
    "T_qsom_i.columns"
   ]
  },
  {
   "cell_type": "code",
   "execution_count": null,
   "id": "c28f2376-d8c7-4aa0-96d0-02a6664857aa",
   "metadata": {},
   "outputs": [],
   "source": [
    "#fits.info(file_i)"
   ]
  },
  {
   "cell_type": "code",
   "execution_count": null,
   "id": "bbe1624d-d950-4795-bf98-938ae5f7d361",
   "metadata": {},
   "outputs": [],
   "source": [
    "print(np.unique(T_qsom_i['OBJTYPE']))"
   ]
  },
  {
   "cell_type": "code",
   "execution_count": null,
   "id": "3fe9971e-3906-41d7-905f-156c1d565560",
   "metadata": {},
   "outputs": [],
   "source": [
    "for objtyp in np.unique(T_qsom_i['OBJTYPE']):\n",
    "    print(f\"OBJTYPE={objtyp};  N={len(T_qsom_i[T_qsom_i['OBJTYPE']==objtyp])}\")"
   ]
  },
  {
   "cell_type": "code",
   "execution_count": null,
   "id": "7d855aac-d670-4ef3-9daa-b82979497d83",
   "metadata": {},
   "outputs": [],
   "source": [
    "no_objtype = (T_qsom_i['OBJTYPE']=='')\n",
    "print(np.max(T_qsom_i['TARGETID'][no_objtype]))\n",
    "print(np.min(T_qsom_i['ZWARN'][no_objtype]))\n",
    "print(np.min(T_qsom_i['COADD_FIBERSTATUS'][no_objtype]))"
   ]
  },
  {
   "cell_type": "code",
   "execution_count": null,
   "id": "a30ce052-de0e-4b95-9378-d74549d64989",
   "metadata": {},
   "outputs": [],
   "source": [
    "print(len(T_qsom_i))\n",
    "print(len(T_qsom_i[T_qsom_i['TARGETID']<0]))\n",
    "is_star = (T_qsom_i['SPECTYPE']=='STAR')&(T_qsom_i['Z']<0.001)\n",
    "print(len(T_qsom_i[is_star]))"
   ]
  },
  {
   "cell_type": "code",
   "execution_count": null,
   "id": "71e9ad11-fe8f-4227-8d80-b54c34bfd5f4",
   "metadata": {},
   "outputs": [],
   "source": [
    "hi_conf_95 = T_qsom_i['QN_C_LINE_BEST']>0.5\n",
    "print(len(T_qsom_i[is_star&hi_conf_95]))"
   ]
  },
  {
   "cell_type": "code",
   "execution_count": null,
   "id": "f0ebb74b-30b7-40e4-b9a6-1ef16157e6cf",
   "metadata": {},
   "outputs": [],
   "source": [
    "T_qsom_i[is_star&hi_conf_95]"
   ]
  },
  {
   "cell_type": "code",
   "execution_count": null,
   "id": "c2f4e5bb-71c3-4e42-ad1f-48e3bb3e0832",
   "metadata": {},
   "outputs": [],
   "source": [
    "prospect_prefix = 'https://www.legacysurvey.org/viewer-desi/desi-spectrum/dr1/targetid'\n",
    "#'https://www.legacysurvey.org/viewer-desi/desi-spectrum/daily/targetid'"
   ]
  },
  {
   "cell_type": "code",
   "execution_count": null,
   "id": "5c63c136-97c8-418a-88b8-de48fdc49fb9",
   "metadata": {},
   "outputs": [],
   "source": [
    "for tid in T_qsom_i['TARGETID'][is_star&hi_conf_95][:10]:\n",
    "    print(prospect_prefix+str(tid))"
   ]
  },
  {
   "cell_type": "markdown",
   "id": "6b5b1673-7986-4e36-8925-fc0e2cba42cd",
   "metadata": {},
   "source": [
    "### SV1 backup (N=4)\n",
    "- https://www.legacysurvey.org/viewer-desi/desi-spectrum/dr1/targetid39633489959586121 (STAR, RR correct)\n",
    "- https://www.legacysurvey.org/viewer-desi/desi-spectrum/dr1/targetid39633493742847107 (STAR but artifact/fake break)\n",
    "- https://www.legacysurvey.org/viewer-desi/desi-spectrum/dr1/targetid39633478597218272 (STAR)\n",
    "- https://www.legacysurvey.org/viewer-desi/desi-spectrum/dr1/targetid39633554824495772 (STAR but artifact/fake break)\n",
    "\n",
    "### SV1 bright (N=8)\n",
    "- https://www.legacysurvey.org/viewer-desi/desi-spectrum/dr1/targetid39627878731613209 (STAR, jump in B/R gap)\n",
    "- https://www.legacysurvey.org/viewer-desi/desi-spectrum/dr1/targetid39632940052778995 (STAR, jump in B/R gap, fiber off-center?)\n",
    "- https://www.legacysurvey.org/viewer-desi/desi-spectrum/dr1/targetid39632955525563342 (? looks bad, not sure)\n",
    "- https://www.legacysurvey.org/viewer-desi/desi-spectrum/dr1/targetid39632995233039010 (QSO at z=2.72 --> LENSED)\n",
    "- https://www.legacysurvey.org/viewer-desi/desi-spectrum/dr1/targetid39628500637844358 (STAR, artifact in red)\n",
    "- https://www.legacysurvey.org/viewer-desi/desi-spectrum/dr1/targetid39633134756564663 (STAR, artifact in red)\n",
    "- https://www.legacysurvey.org/viewer-desi/desi-spectrum/dr1/targetid39633165249152063 (STAR)\n",
    "- https://www.legacysurvey.org/viewer-desi/desi-spectrum/dr1/targetid39628446967531209 (QSO at z=2.84)\n",
    "\n",
    "### SV1 dark (N=20); first 10:\n",
    "- https://www.legacysurvey.org/viewer-desi/desi-spectrum/dr1/targetid39628395528587194 (STAR, WD)\n",
    "- https://www.legacysurvey.org/viewer-desi/desi-spectrum/dr1/targetid39627914815214333 (QSO at z=1.181)\n",
    "- https://www.legacysurvey.org/viewer-desi/desi-spectrum/dr1/targetid39627914819409528 (QSO, BAL at z=2.179)\n",
    "- https://www.legacysurvey.org/viewer-desi/desi-spectrum/dr1/targetid39628417116668690 (QSO at z=2.38)\n",
    "- https://www.legacysurvey.org/viewer-desi/desi-spectrum/dr1/targetid39627158296986610 (QSO at z=1.98)\n",
    "- https://www.legacysurvey.org/viewer-desi/desi-spectrum/dr1/targetid39627218212621778 (QSO at z=1.373)\n",
    "- https://www.legacysurvey.org/viewer-desi/desi-spectrum/dr1/targetid39628151147466939 (QSO at z=3.04)\n",
    "- https://www.legacysurvey.org/viewer-desi/desi-spectrum/dr1/targetid39632945178216893 (QSO at z=1.24)\n",
    "- https://www.legacysurvey.org/viewer-desi/desi-spectrum/dr1/targetid39628522041380522 (QSO at z=2.4)\n",
    "- https://www.legacysurvey.org/viewer-desi/desi-spectrum/dr1/targetid39632939855643261 (? looks bad, not sure)\n",
    "\n",
    "### SV2 dark (N=6)\n",
    "```\n",
    "TARGETID\t     SURVEY\tPROGRAM\t  Z_RR\t       Z_QN\t        Z_VI\n",
    "39633318479659525\tsv2\tdark\t 0.00095977    1.1393893\t1.1399\n",
    "39633362096229283\tsv2\tdark\t-0.00028507    1.2618234\t1.3022\n",
    "39633297059350765\tsv2\tdark\t-0.00031275    1.0668758\t1.056\n",
    "39633318471272704\tsv2\tdark\t 0.00088319    1.2718421\t1.2568\n",
    "39633328860564489\tsv2\tdark\t-0.00136077    1.2698301\t1.2759\n",
    "39633368509318861\tsv2\tdark\t-5.000e-05     2.8922458\t2.895\n",
    "```"
   ]
  },
  {
   "cell_type": "code",
   "execution_count": null,
   "id": "1eee8258-b035-4694-beae-047fe1bbfbbb",
   "metadata": {},
   "outputs": [],
   "source": [
    "# some VI for sv2-dark (pasted table above):\n",
    "t_vi = Table()\n",
    "t_vi['TARGETID'] = T_qsom_i['TARGETID'][is_star&hi_conf_95]\n",
    "t_vi['SURVEY'] = T_qsom_i['SURVEY'][is_star&hi_conf_95]\n",
    "t_vi['PROGRAM'] = T_qsom_i['PROGRAM'][is_star&hi_conf_95]\n",
    "t_vi['Z_RR'] = T_qsom_i['Z_RR'][is_star&hi_conf_95]\n",
    "t_vi['Z_QN'] = T_qsom_i['Z_QN'][is_star&hi_conf_95]\n",
    "t_vi['Z_VI'] = [1.1399, 1.3022, 1.0560, 1.2568, 1.2759, 2.895]\n",
    "\n",
    "t_vi"
   ]
  }
 ],
 "metadata": {
  "kernelspec": {
   "display_name": "DESI main",
   "language": "python",
   "name": "desi-main"
  },
  "language_info": {
   "codemirror_mode": {
    "name": "ipython",
    "version": 3
   },
   "file_extension": ".py",
   "mimetype": "text/x-python",
   "name": "python",
   "nbconvert_exporter": "python",
   "pygments_lexer": "ipython3",
   "version": "3.10.14"
  }
 },
 "nbformat": 4,
 "nbformat_minor": 5
}
