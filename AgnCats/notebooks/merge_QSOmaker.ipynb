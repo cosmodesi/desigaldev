{
 "cells": [
  {
   "cell_type": "markdown",
   "id": "08aa76ec-552f-4970-9e8d-9da17e6184d9",
   "metadata": {},
   "source": [
    "# Join QSO-maker catalogs for Iron\n",
    "Stephanie Juneau (NOIRLab)\n",
    "\n",
    "\n",
    "NOTE: Edmond put individual files; need to loop or create a compilation\n",
    "```\n",
    "## QSO-maker path \n",
    "path_qsom = '/global/cfs/cdirs/desi/users/edmondc/QSO_catalog/iron/all/'\n",
    "```\n",
    "\n",
    "## Imports"
   ]
  },
  {
   "cell_type": "code",
   "execution_count": null,
   "id": "4e41a1a7-37bf-4796-89a7-0337d9937e53",
   "metadata": {},
   "outputs": [],
   "source": [
    "# General imports\n",
    "import numpy as np\n",
    "\n",
    "# Import Astropy libraries - useful for many astronomy related function\n",
    "from astropy.table import Table, vstack\n",
    "from astropy.io import fits\n",
    "\n",
    "# Fast FITS file I/O access\n",
    "import fitsio\n"
   ]
  },
  {
   "cell_type": "markdown",
   "id": "e1537d4a-6e47-4316-a2b2-dec9e26278fb",
   "metadata": {},
   "source": [
    "## Data files"
   ]
  },
  {
   "cell_type": "code",
   "execution_count": null,
   "id": "a591bdc2-786f-43c3-bf2d-2a259abd9602",
   "metadata": {},
   "outputs": [],
   "source": [
    "## Define filepaths\n",
    "path_qsom = '/global/cfs/cdirs/desi/users/edmondc/QSO_catalog/iron/all/'\n",
    "path_gqp = '/global/cfs/cdirs/desi/science/gqp/agncatalog/qsomaker/iron/'"
   ]
  },
  {
   "cell_type": "code",
   "execution_count": null,
   "id": "3e731bbd-8bae-4c3f-8f19-6c40f850f913",
   "metadata": {},
   "outputs": [],
   "source": [
    "## SJ: will exclude the targeting cols because we'll add them from the zcat VAC instead \n",
    "#qsom_cols=['TARGETID','Z','ZERR','ZWARN','SPECTYPE','COADD_FIBERSTATUS','TARGET_RA','TARGET_DEC',\\\n",
    "#           'MORPHTYPE','EBV','MASKBITS','DESI_TARGET','SCND_TARGET','COADD_NUMEXP','COADD_EXPTIME',\\\n",
    "#           'CMX_TARGET','SV1_DESI_TARGET','SV2_DESI_TARGET','SV3_DESI_TARGET',\\\n",
    "#           'SV1_SCND_TARGET','SV2_SCND_TARGET','SV3_SCND_TARGET','TSNR2_LYA','TSNR2_QSO',\\\n",
    "#           'DELTA_CHI2_MGII','A_MGII','SIGMA_MGII','B_MGII','VAR_A_MGII','VAR_SIGMA_MGII','VAR_B_MGII',\\\n",
    "#           'Z_RR','Z_QN','C_LYA','C_CIV','C_CIII','C_MgII','C_Hbeta','C_Halpha','QSO_MASKBITS']\n",
    "\n",
    "# Current choice for Iron\n",
    "qsom_cols=['TARGETID','Z','ZERR','ZWARN','OBJTYPE','SPECTYPE','COADD_FIBERSTATUS','TARGET_RA','TARGET_DEC',\\\n",
    "           'MORPHTYPE','MASKBITS','COADD_NUMEXP','COADD_EXPTIME','TSNR2_LYA','TSNR2_QSO',\\\n",
    "           'DELTA_CHI2_MGII','A_MGII','SIGMA_MGII','B_MGII','VAR_A_MGII','VAR_SIGMA_MGII','VAR_B_MGII',\\\n",
    "           'Z_RR','Z_QN','C_LYA','C_CIV','C_CIII','C_MgII','C_Hbeta','C_Halpha',\\\n",
    "           'QSO_MASKBITS','SURVEY','PROGRAM']\n",
    "# Try without these: 'Z_LYA','Z_CIV','Z_CIII','Z_MgII','Z_Hbeta','Z_Halpha'\n",
    "\n",
    "## NOTE: cut on OBJTYPE then delete the column (wasn't in Fuji/EDR version)\n",
    "\n",
    "print(qsom_cols)"
   ]
  },
  {
   "cell_type": "markdown",
   "id": "185cb867-a69d-4d3c-9bb5-8638501c47ae",
   "metadata": {},
   "source": [
    "## Loop over survey-program combos"
   ]
  },
  {
   "cell_type": "code",
   "execution_count": null,
   "id": "a7556375-9e28-482b-b486-3b311cded778",
   "metadata": {},
   "outputs": [],
   "source": [
    "%%time\n",
    "# Short list for testing\n",
    "#survey_programs = ['cmx_other', \\\n",
    "#                   'special_dark', 'special_other', \\\n",
    "#                   'sv1_backup', 'sv1_bright']\n",
    "\n",
    "# Complete list for DR1\n",
    "survey_programs = ['cmx_other', 'main_backup', 'main_bright', 'main_dark',\\\n",
    "                   'special_backup', 'special_bright', 'special_dark', 'special_other', \\\n",
    "                   'sv1_backup', 'sv1_bright', 'sv1_dark', 'sv1_other', \\\n",
    "                   'sv2_backup', 'sv2_bright', 'sv2_dark', \\\n",
    "                   'sv3_backup', 'sv3_bright', 'sv3_dark']\n",
    "\n",
    "# Initialize table\n",
    "T_qsom = Table()\n",
    "\n",
    "for i in range(len(survey_programs)):\n",
    "\n",
    "    # Read each file\n",
    "    surv_prog = survey_programs[i]\n",
    "    file_i = path_qsom+f\"QSO_cat_iron_{surv_prog}_healpix_all_targets_v1.fits\"\n",
    "    T_qsom_i = Table(fitsio.read(file_i, columns=qsom_cols, ext=1)) \n",
    "\n",
    "    # Print some stats:\n",
    "    N_init = len(T_qsom_i)\n",
    "    print(f\"N={N_init} in file {file_i}\")\n",
    "    \n",
    "    ## Keep only OBJTYPE='TGT'\n",
    "    keep = T_qsom_i['OBJTYPE']=='TGT'\n",
    "    T_qsom_i = T_qsom_i[keep]\n",
    "    \n",
    "    # Print some stats:\n",
    "    N_keep = len(T_qsom_i)\n",
    "    print(f\"... After cutting on OBTYPE=TGT: N={N_keep}; (fraction: {np.round(N_keep/N_init, 2)})\")\n",
    "\n",
    "    ## Adding two columns we need for the cuts\n",
    "    a = np.array([T_qsom_i['C_LYA'], T_qsom_i['C_CIV'], T_qsom_i['C_CIII'], \\\n",
    "                  T_qsom_i['C_MgII'], T_qsom_i['C_Hbeta'], T_qsom_i['C_Halpha']])\n",
    "    T_qsom_i['QN_C_LINE_BEST'] = [max(l) for l in (a.T).tolist()]\n",
    "    T_qsom_i['QN_C_LINE_SECOND_BEST'] = [sorted(l)[-2] for l in (a.T).tolist()]\n",
    "\n",
    "    hi_conf_50 = T_qsom_i['QN_C_LINE_BEST']>0.50\n",
    "    # Remove stars (except wait for possible mid/high-confidence QN cases)\n",
    "    is_star = (T_qsom_i['SPECTYPE']=='STAR')&(T_qsom_i['Z']<0.001)&(~hi_conf_50)\n",
    "    T_qsom_i = T_qsom_i[~is_star]\n",
    "    \n",
    "    # Print some stats:\n",
    "    print(f\"... After cutting Stars at z<0.001: N={len(T_qsom_i)}; (fraction: {np.round(len(T_qsom_i)/N_init, 2)})\")\n",
    "    \n",
    "    T_qsom = vstack([T_qsom, T_qsom_i])"
   ]
  },
  {
   "cell_type": "code",
   "execution_count": null,
   "id": "85785cec-499c-4b95-afc6-f33b26153526",
   "metadata": {},
   "outputs": [],
   "source": [
    "print(len(T_qsom))\n",
    "\n",
    "T_qsom[:3]"
   ]
  },
  {
   "cell_type": "code",
   "execution_count": null,
   "id": "c6e3e913-5516-450e-a4be-1febea6d376f",
   "metadata": {},
   "outputs": [],
   "source": [
    "%%time\n",
    "#NOTE: this is slow...\n",
    "#print(np.unique(T_qsom['SURVEY','PROGRAM']))"
   ]
  },
  {
   "cell_type": "code",
   "execution_count": null,
   "id": "a3920a7c-4323-4d77-9ea2-854f6ee467ab",
   "metadata": {},
   "outputs": [],
   "source": [
    "print(len(T_qsom))\n",
    "print(len(T_qsom[T_qsom['COADD_EXPTIME']==0.]))"
   ]
  },
  {
   "cell_type": "code",
   "execution_count": null,
   "id": "43f30cd0-1b2b-49bf-8e8f-d912c117d817",
   "metadata": {},
   "outputs": [],
   "source": [
    "T_qsom.remove_column('OBJTYPE')"
   ]
  },
  {
   "cell_type": "code",
   "execution_count": null,
   "id": "a7e820dd-c889-488a-8ce8-285a81247c52",
   "metadata": {},
   "outputs": [],
   "source": [
    "%%time\n",
    "## Save output file\n",
    "outfile = path_gqp+\"QSO_cat_iron_healpix_all_targets_v1.fits\"\n",
    "T_qsom.write(outfile, overwrite=True)"
   ]
  },
  {
   "cell_type": "markdown",
   "id": "8344c0eb-5f9a-49da-ab20-902b3028a943",
   "metadata": {},
   "source": [
    "## Record keeping of results from above\n",
    "\n",
    "Looping over all survey-program combos printed this:\n",
    "```\n",
    "N=5000 in file /global/cfs/cdirs/desi/users/edmondc/QSO_catalog/iron/all/QSO_cat_iron_cmx_other_healpix_all_targets_v1.fits\n",
    "... After cutting on OBTYPE=TGT: N=4146; (fraction: 0.83)\n",
    "... After cutting Stars at z<0.001: N=3509; (fraction: 0.7)\n",
    "N=1632500 in file /global/cfs/cdirs/desi/users/edmondc/QSO_catalog/iron/all/QSO_cat_iron_main_backup_healpix_all_targets_v1.fits\n",
    "... After cutting on OBTYPE=TGT: N=1233814; (fraction: 0.76)\n",
    "... After cutting Stars at z<0.001: N=27723; (fraction: 0.02)\n",
    "N=11020470 in file /global/cfs/cdirs/desi/users/edmondc/QSO_catalog/iron/all/QSO_cat_iron_main_bright_healpix_all_targets_v1.fits\n",
    "... After cutting on OBTYPE=TGT: N=9069114; (fraction: 0.82)\n",
    "... After cutting Stars at z<0.001: N=6490892; (fraction: 0.59)\n",
    "N=12778525 in file /global/cfs/cdirs/desi/users/edmondc/QSO_catalog/iron/all/QSO_cat_iron_main_dark_healpix_all_targets_v1.fits\n",
    "... After cutting on OBTYPE=TGT: N=10591432; (fraction: 0.83)\n",
    "... After cutting Stars at z<0.001: N=10155396; (fraction: 0.79)\n",
    "N=44905 in file /global/cfs/cdirs/desi/users/edmondc/QSO_catalog/iron/all/QSO_cat_iron_special_backup_healpix_all_targets_v1.fits\n",
    "... After cutting on OBTYPE=TGT: N=35648; (fraction: 0.79)\n",
    "... After cutting Stars at z<0.001: N=2894; (fraction: 0.06)\n",
    "N=74412 in file /global/cfs/cdirs/desi/users/edmondc/QSO_catalog/iron/all/QSO_cat_iron_special_bright_healpix_all_targets_v1.fits\n",
    "... After cutting on OBTYPE=TGT: N=57237; (fraction: 0.77)\n",
    "... After cutting Stars at z<0.001: N=43780; (fraction: 0.59)\n",
    "N=19500 in file /global/cfs/cdirs/desi/users/edmondc/QSO_catalog/iron/all/QSO_cat_iron_special_dark_healpix_all_targets_v1.fits\n",
    "... After cutting on OBTYPE=TGT: N=16076; (fraction: 0.82)\n",
    "... After cutting Stars at z<0.001: N=15217; (fraction: 0.78)\n",
    "N=64428 in file /global/cfs/cdirs/desi/users/edmondc/QSO_catalog/iron/all/QSO_cat_iron_special_other_healpix_all_targets_v1.fits\n",
    "... After cutting on OBTYPE=TGT: N=53555; (fraction: 0.83)\n",
    "... After cutting Stars at z<0.001: N=43035; (fraction: 0.67)\n",
    "N=110599 in file /global/cfs/cdirs/desi/users/edmondc/QSO_catalog/iron/all/QSO_cat_iron_sv1_backup_healpix_all_targets_v1.fits\n",
    "... After cutting on OBTYPE=TGT: N=69665; (fraction: 0.63)\n",
    "... After cutting Stars at z<0.001: N=10989; (fraction: 0.1)\n",
    "N=239057 in file /global/cfs/cdirs/desi/users/edmondc/QSO_catalog/iron/all/QSO_cat_iron_sv1_bright_healpix_all_targets_v1.fits\n",
    "... After cutting on OBTYPE=TGT: N=197959; (fraction: 0.83)\n",
    "... After cutting Stars at z<0.001: N=155744; (fraction: 0.65)\n",
    "N=371000 in file /global/cfs/cdirs/desi/users/edmondc/QSO_catalog/iron/all/QSO_cat_iron_sv1_dark_healpix_all_targets_v1.fits\n",
    "... After cutting on OBTYPE=TGT: N=311122; (fraction: 0.84)\n",
    "... After cutting Stars at z<0.001: N=283910; (fraction: 0.77)\n",
    "N=143679 in file /global/cfs/cdirs/desi/users/edmondc/QSO_catalog/iron/all/QSO_cat_iron_sv1_other_healpix_all_targets_v1.fits\n",
    "... After cutting on OBTYPE=TGT: N=109606; (fraction: 0.76)\n",
    "... After cutting Stars at z<0.001: N=49329; (fraction: 0.34)\n",
    "N=4985 in file /global/cfs/cdirs/desi/users/edmondc/QSO_catalog/iron/all/QSO_cat_iron_sv2_backup_healpix_all_targets_v1.fits\n",
    "... After cutting on OBTYPE=TGT: N=3213; (fraction: 0.64)\n",
    "... After cutting Stars at z<0.001: N=339; (fraction: 0.07)\n",
    "N=82288 in file /global/cfs/cdirs/desi/users/edmondc/QSO_catalog/iron/all/QSO_cat_iron_sv2_bright_healpix_all_targets_v1.fits\n",
    "... After cutting on OBTYPE=TGT: N=55445; (fraction: 0.67)\n",
    "... After cutting Stars at z<0.001: N=48384; (fraction: 0.59)\n",
    "N=85411 in file /global/cfs/cdirs/desi/users/edmondc/QSO_catalog/iron/all/QSO_cat_iron_sv2_dark_healpix_all_targets_v1.fits\n",
    "... After cutting on OBTYPE=TGT: N=59345; (fraction: 0.69)\n",
    "... After cutting Stars at z<0.001: N=55882; (fraction: 0.65)\n",
    "N=156359 in file /global/cfs/cdirs/desi/users/edmondc/QSO_catalog/iron/all/QSO_cat_iron_sv3_backup_healpix_all_targets_v1.fits\n",
    "... After cutting on OBTYPE=TGT: N=90685; (fraction: 0.58)\n",
    "... After cutting Stars at z<0.001: N=6380; (fraction: 0.04)\n",
    "N=729898 in file /global/cfs/cdirs/desi/users/edmondc/QSO_catalog/iron/all/QSO_cat_iron_sv3_bright_healpix_all_targets_v1.fits\n",
    "... After cutting on OBTYPE=TGT: N=484457; (fraction: 0.66)\n",
    "... After cutting Stars at z<0.001: N=268049; (fraction: 0.37)\n",
    "N=862947 in file /global/cfs/cdirs/desi/users/edmondc/QSO_catalog/iron/all/QSO_cat_iron_sv3_dark_healpix_all_targets_v1.fits\n",
    "... After cutting on OBTYPE=TGT: N=618208; (fraction: 0.72)\n",
    "... After cutting Stars at z<0.001: N=599194; (fraction: 0.69)\n",
    "```"
   ]
  },
  {
   "cell_type": "markdown",
   "id": "1ad12b42-8438-4c09-af29-50831976f56e",
   "metadata": {},
   "source": [
    "## Tests and VI below"
   ]
  },
  {
   "cell_type": "code",
   "execution_count": null,
   "id": "b01ba28a-6d0a-4142-982c-67fe777c2857",
   "metadata": {},
   "outputs": [],
   "source": [
    "print(170042/18260646)"
   ]
  },
  {
   "cell_type": "code",
   "execution_count": null,
   "id": "93456686-ffa4-4718-a979-a27ddbc0e745",
   "metadata": {},
   "outputs": [],
   "source": [
    "%%time\n",
    "#test\n",
    "file_i = path_qsom+\"QSO_cat_iron_sv1_backup_healpix_all_targets_v1.fits\"\n",
    "#file_i = path_qsom+\"QSO_cat_iron_sv3_dark_healpix_all_targets_v1.fits\"\n",
    "#file_i = path_qsom+\"QSO_cat_iron_sv2_bright_healpix_all_targets_v1.fits\" #N=1\n",
    "#file_i = path_qsom+\"QSO_cat_iron_sv2_dark_healpix_all_targets_v1.fits\"\n",
    "\n",
    "T_qsom_i = Table(fitsio.read(file_i, columns=qsom_cols, ext=1))\n",
    "\n",
    "## Adding two columns we need for the cuts\n",
    "a = np.array([T_qsom_i['C_LYA'], T_qsom_i['C_CIV'], T_qsom_i['C_CIII'], \\\n",
    "              T_qsom_i['C_MgII'], T_qsom_i['C_Hbeta'], T_qsom_i['C_Halpha']])\n",
    "T_qsom_i['QN_C_LINE_BEST'] = [max(l) for l in (a.T).tolist()]\n",
    "T_qsom_i['QN_C_LINE_SECOND_BEST'] = [sorted(l)[-2] for l in (a.T).tolist()]\n"
   ]
  },
  {
   "cell_type": "code",
   "execution_count": null,
   "id": "c28f2376-d8c7-4aa0-96d0-02a6664857aa",
   "metadata": {},
   "outputs": [],
   "source": [
    "#fits.info(file_i)"
   ]
  },
  {
   "cell_type": "code",
   "execution_count": null,
   "id": "bbe1624d-d950-4795-bf98-938ae5f7d361",
   "metadata": {},
   "outputs": [],
   "source": [
    "print(np.unique(T_qsom_i['OBJTYPE']))"
   ]
  },
  {
   "cell_type": "code",
   "execution_count": null,
   "id": "3fe9971e-3906-41d7-905f-156c1d565560",
   "metadata": {},
   "outputs": [],
   "source": [
    "for objtyp in np.unique(T_qsom_i['OBJTYPE']):\n",
    "    print(f\"OBJTYPE={objtyp};  N={len(T_qsom_i[T_qsom_i['OBJTYPE']==objtyp])}\")"
   ]
  },
  {
   "cell_type": "code",
   "execution_count": null,
   "id": "7d855aac-d670-4ef3-9daa-b82979497d83",
   "metadata": {},
   "outputs": [],
   "source": [
    "no_objtype = (T_qsom_i['OBJTYPE']=='')\n",
    "print(np.max(T_qsom_i['TARGETID'][no_objtype]))\n",
    "print(np.min(T_qsom_i['ZWARN'][no_objtype]))\n",
    "print(np.min(T_qsom_i['COADD_FIBERSTATUS'][no_objtype]))"
   ]
  },
  {
   "cell_type": "code",
   "execution_count": null,
   "id": "a30ce052-de0e-4b95-9378-d74549d64989",
   "metadata": {},
   "outputs": [],
   "source": [
    "print(len(T_qsom_i))\n",
    "print(len(T_qsom_i[T_qsom_i['TARGETID']<0]))\n",
    "is_star = (T_qsom_i['SPECTYPE']=='STAR')&(T_qsom_i['Z']<0.001)\n",
    "print(len(T_qsom_i[is_star]))"
   ]
  },
  {
   "cell_type": "code",
   "execution_count": null,
   "id": "71e9ad11-fe8f-4227-8d80-b54c34bfd5f4",
   "metadata": {},
   "outputs": [],
   "source": [
    "hi_conf_95 = T_qsom_i['QN_C_LINE_BEST']>0.5\n",
    "print(len(T_qsom_i[is_star&hi_conf_95]))"
   ]
  },
  {
   "cell_type": "code",
   "execution_count": null,
   "id": "f0ebb74b-30b7-40e4-b9a6-1ef16157e6cf",
   "metadata": {},
   "outputs": [],
   "source": [
    "T_qsom_i[is_star&hi_conf_95]"
   ]
  },
  {
   "cell_type": "code",
   "execution_count": null,
   "id": "c2f4e5bb-71c3-4e42-ad1f-48e3bb3e0832",
   "metadata": {},
   "outputs": [],
   "source": [
    "prospect_prefix = 'https://www.legacysurvey.org/viewer-desi/desi-spectrum/dr1/targetid'\n",
    "#'https://www.legacysurvey.org/viewer-desi/desi-spectrum/daily/targetid'"
   ]
  },
  {
   "cell_type": "code",
   "execution_count": null,
   "id": "5c63c136-97c8-418a-88b8-de48fdc49fb9",
   "metadata": {},
   "outputs": [],
   "source": [
    "for tid in T_qsom_i['TARGETID'][is_star&hi_conf_95][:10]:\n",
    "    print(prospect_prefix+str(tid))"
   ]
  },
  {
   "cell_type": "markdown",
   "id": "6b5b1673-7986-4e36-8925-fc0e2cba42cd",
   "metadata": {},
   "source": [
    "### SV1 backup (N=4)\n",
    "- https://www.legacysurvey.org/viewer-desi/desi-spectrum/dr1/targetid39633489959586121 (STAR, RR correct)\n",
    "- https://www.legacysurvey.org/viewer-desi/desi-spectrum/dr1/targetid39633493742847107 (STAR but artifact/fake break)\n",
    "- https://www.legacysurvey.org/viewer-desi/desi-spectrum/dr1/targetid39633478597218272 (STAR)\n",
    "- https://www.legacysurvey.org/viewer-desi/desi-spectrum/dr1/targetid39633554824495772 (STAR but artifact/fake break)\n",
    "\n",
    "### SV1 bright (N=8)\n",
    "- https://www.legacysurvey.org/viewer-desi/desi-spectrum/dr1/targetid39627878731613209 (STAR, jump in B/R gap)\n",
    "- https://www.legacysurvey.org/viewer-desi/desi-spectrum/dr1/targetid39632940052778995 (STAR, jump in B/R gap, fiber off-center?)\n",
    "- https://www.legacysurvey.org/viewer-desi/desi-spectrum/dr1/targetid39632955525563342 (? looks bad, not sure)\n",
    "- https://www.legacysurvey.org/viewer-desi/desi-spectrum/dr1/targetid39632995233039010 (QSO at z=2.72 --> LENSED)\n",
    "- https://www.legacysurvey.org/viewer-desi/desi-spectrum/dr1/targetid39628500637844358 (STAR, artifact in red)\n",
    "- https://www.legacysurvey.org/viewer-desi/desi-spectrum/dr1/targetid39633134756564663 (STAR, artifact in red)\n",
    "- https://www.legacysurvey.org/viewer-desi/desi-spectrum/dr1/targetid39633165249152063 (STAR)\n",
    "- https://www.legacysurvey.org/viewer-desi/desi-spectrum/dr1/targetid39628446967531209 (QSO at z=2.84)\n",
    "\n",
    "### SV1 dark (N=20); first 10:\n",
    "- https://www.legacysurvey.org/viewer-desi/desi-spectrum/dr1/targetid39628395528587194 (STAR, WD)\n",
    "- https://www.legacysurvey.org/viewer-desi/desi-spectrum/dr1/targetid39627914815214333 (QSO at z=1.181)\n",
    "- https://www.legacysurvey.org/viewer-desi/desi-spectrum/dr1/targetid39627914819409528 (QSO, BAL at z=2.179)\n",
    "- https://www.legacysurvey.org/viewer-desi/desi-spectrum/dr1/targetid39628417116668690 (QSO at z=2.38)\n",
    "- https://www.legacysurvey.org/viewer-desi/desi-spectrum/dr1/targetid39627158296986610 (QSO at z=1.98)\n",
    "- https://www.legacysurvey.org/viewer-desi/desi-spectrum/dr1/targetid39627218212621778 (QSO at z=1.373)\n",
    "- https://www.legacysurvey.org/viewer-desi/desi-spectrum/dr1/targetid39628151147466939 (QSO at z=3.04)\n",
    "- https://www.legacysurvey.org/viewer-desi/desi-spectrum/dr1/targetid39632945178216893 (QSO at z=1.24)\n",
    "- https://www.legacysurvey.org/viewer-desi/desi-spectrum/dr1/targetid39628522041380522 (QSO at z=2.4)\n",
    "- https://www.legacysurvey.org/viewer-desi/desi-spectrum/dr1/targetid39632939855643261 (? looks bad, not sure)\n",
    "\n",
    "### SV2 dark (N=6)\n",
    "```\n",
    "TARGETID\t     SURVEY\tPROGRAM\t  Z_RR\t       Z_QN\t        Z_VI\n",
    "39633318479659525\tsv2\tdark\t 0.00095977    1.1393893\t1.1399\n",
    "39633362096229283\tsv2\tdark\t-0.00028507    1.2618234\t1.3022\n",
    "39633297059350765\tsv2\tdark\t-0.00031275    1.0668758\t1.056\n",
    "39633318471272704\tsv2\tdark\t 0.00088319    1.2718421\t1.2568\n",
    "39633328860564489\tsv2\tdark\t-0.00136077    1.2698301\t1.2759\n",
    "39633368509318861\tsv2\tdark\t-5.000e-05     2.8922458\t2.895\n",
    "```"
   ]
  },
  {
   "cell_type": "code",
   "execution_count": null,
   "id": "1eee8258-b035-4694-beae-047fe1bbfbbb",
   "metadata": {},
   "outputs": [],
   "source": [
    "# some VI for sv2-dark (pasted table above):\n",
    "t_vi = Table()\n",
    "t_vi['TARGETID'] = T_qsom_i['TARGETID'][is_star&hi_conf_95]\n",
    "t_vi['SURVEY'] = T_qsom_i['SURVEY'][is_star&hi_conf_95]\n",
    "t_vi['PROGRAM'] = T_qsom_i['PROGRAM'][is_star&hi_conf_95]\n",
    "t_vi['Z_RR'] = T_qsom_i['Z_RR'][is_star&hi_conf_95]\n",
    "t_vi['Z_QN'] = T_qsom_i['Z_QN'][is_star&hi_conf_95]\n",
    "t_vi['Z_VI'] = [1.1399, 1.3022, 1.0560, 1.2568, 1.2759, 2.895]\n",
    "\n",
    "t_vi"
   ]
  }
 ],
 "metadata": {
  "kernelspec": {
   "display_name": "DESI main",
   "language": "python",
   "name": "desi-main"
  },
  "language_info": {
   "codemirror_mode": {
    "name": "ipython",
    "version": 3
   },
   "file_extension": ".py",
   "mimetype": "text/x-python",
   "name": "python",
   "nbconvert_exporter": "python",
   "pygments_lexer": "ipython3",
   "version": "3.10.14"
  }
 },
 "nbformat": 4,
 "nbformat_minor": 5
}
